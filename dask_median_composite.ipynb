{
 "cells": [
  {
   "cell_type": "markdown",
   "id": "fcd6d685-f91c-4c69-af88-be6892167670",
   "metadata": {
    "id": "fcd6d685-f91c-4c69-af88-be6892167670"
   },
   "source": [
    "# Creating a Median Composite with Dask\n",
    "\n",
    "We will query a STAC catalog for Sentinel-2 imagery and create a monthly cloud-free composite using distributed processing on a local machine."
   ]
  },
  {
   "cell_type": "markdown",
   "id": "6c3d59b3-acb9-464e-a0b5-5b4a705a2351",
   "metadata": {
    "id": "6c3d59b3-acb9-464e-a0b5-5b4a705a2351"
   },
   "source": [
    "## Setup and Data Download\n",
    "\n",
    "The following blocks of code will install the required packages and download the datasets to your Colab environment."
   ]
  },
  {
   "cell_type": "code",
   "execution_count": null,
   "id": "d040fad2-4e94-4804-a73f-5e0c9c116c0c",
   "metadata": {
    "id": "d040fad2-4e94-4804-a73f-5e0c9c116c0c"
   },
   "outputs": [],
   "source": [
    "%%capture\n",
    "if 'google.colab' in str(get_ipython()):\n",
    "    !pip install pystac-client\n",
    "    !apt install libspatialindex-dev\n",
    "    !pip install fiona shapely pyproj rtree\n",
    "    !pip install geopandas folium stackstac rioxarray mapclassify"
   ]
  },
  {
   "cell_type": "code",
   "execution_count": null,
   "id": "86532af4-8699-4ae6-9fd5-a3a122d0e31f",
   "metadata": {
    "id": "86532af4-8699-4ae6-9fd5-a3a122d0e31f"
   },
   "outputs": [],
   "source": [
    "import json\n",
    "import geopandas as gpd\n",
    "from shapely.geometry import mapping\n",
    "import pandas as pd\n",
    "import pystac_client\n",
    "import os\n",
    "import folium\n",
    "from folium import Figure\n",
    "import stackstac\n",
    "import rioxarray\n",
    "import matplotlib.pyplot as plt\n",
    "import mapclassify\n",
    "import dask"
   ]
  },
  {
   "cell_type": "code",
   "execution_count": null,
   "id": "aaf0d887-f7b0-4d9e-93d4-28e6b4a270f0",
   "metadata": {},
   "outputs": [],
   "source": [
    "from dask.distributed import Client, progress\n",
    "client = Client()  # set up local cluster on the machine\n",
    "client"
   ]
  },
  {
   "cell_type": "code",
   "execution_count": null,
   "id": "212dac17-9f83-4ada-a09a-6ff70cdaff5e",
   "metadata": {
    "id": "212dac17-9f83-4ada-a09a-6ff70cdaff5e"
   },
   "outputs": [],
   "source": [
    "data_folder = 'data'\n",
    "output_folder = 'output'\n",
    "\n",
    "if not os.path.exists(data_folder):\n",
    "    os.mkdir(data_folder)\n",
    "if not os.path.exists(output_folder):\n",
    "    os.mkdir(output_folder)"
   ]
  },
  {
   "cell_type": "code",
   "execution_count": null,
   "id": "0d32a323-be99-4a58-ac7a-12e1b183e64f",
   "metadata": {
    "id": "0d32a323-be99-4a58-ac7a-12e1b183e64f"
   },
   "outputs": [],
   "source": [
    "def download(url):\n",
    "    filename = os.path.join(data_folder, os.path.basename(url))\n",
    "    if not os.path.exists(filename):\n",
    "        from urllib.request import urlretrieve\n",
    "        local, _ = urlretrieve(url, filename)\n",
    "        print('Downloaded ' + local)\n",
    "\n",
    "download('https://github.com/spatialthoughts/python-tutorials/raw/main/data/' +\n",
    "         'bangalore.geojson')"
   ]
  },
  {
   "cell_type": "markdown",
   "id": "f1f5a884-8c4b-42bf-86f8-ba4958dbfd96",
   "metadata": {
    "id": "f1f5a884-8c4b-42bf-86f8-ba4958dbfd96"
   },
   "source": [
    "## Procedure"
   ]
  },
  {
   "cell_type": "markdown",
   "id": "d3b17314-1e3a-4283-87c3-daf4bc1f9f6c",
   "metadata": {
    "id": "d3b17314-1e3a-4283-87c3-daf4bc1f9f6c"
   },
   "source": [
    "Let's use Element84 search endpoint to look for items from the `sentinel-2-c1-l2a` collection on AWS"
   ]
  },
  {
   "cell_type": "code",
   "execution_count": null,
   "id": "c08a868e-be31-409c-9a0a-4b39465d9595",
   "metadata": {
    "id": "c08a868e-be31-409c-9a0a-4b39465d9595"
   },
   "outputs": [],
   "source": [
    "catalog = pystac_client.Client.open('https://earth-search.aws.element84.com/v1')"
   ]
  },
  {
   "cell_type": "code",
   "execution_count": null,
   "id": "fb766125-43b0-45e1-bb29-cbb8430dd33c",
   "metadata": {
    "id": "fb766125-43b0-45e1-bb29-cbb8430dd33c"
   },
   "outputs": [],
   "source": [
    "aoi_file = 'bangalore.geojson'\n",
    "aoi_filepath = os.path.join(data_folder, aoi_file)\n",
    "aoi = gpd.read_file(aoi_filepath)"
   ]
  },
  {
   "cell_type": "code",
   "execution_count": null,
   "id": "5ca39f38-05a1-4314-9c7b-5d9433b4a782",
   "metadata": {
    "id": "5ca39f38-05a1-4314-9c7b-5d9433b4a782"
   },
   "outputs": [],
   "source": [
    "geometry = aoi.unary_union\n",
    "geometry_geojson = json.dumps(mapping(geometry))"
   ]
  },
  {
   "cell_type": "markdown",
   "id": "bf555912-ceec-4c34-8140-de3bfab8c2c5",
   "metadata": {},
   "source": [
    "We search for the imagery collected within the date range and intersecting the AOI geometry. Additionally we add filters to select imagery with less cloud cover and over a specific MGRS tile."
   ]
  },
  {
   "cell_type": "code",
   "execution_count": null,
   "id": "70449855-e2d1-451f-8250-1f0c0a11a637",
   "metadata": {
    "id": "70449855-e2d1-451f-8250-1f0c0a11a637"
   },
   "outputs": [],
   "source": [
    "year = 2023\n",
    "month = 4\n",
    "time_range = f'{year}-{month:02}'\n",
    "\n",
    "search = catalog.search(\n",
    "    collections=['sentinel-2-c1-l2a'],\n",
    "    intersects=geometry_geojson,\n",
    "    datetime=time_range,\n",
    "    query={'eo:cloud_cover': {'lt': 30},  'mgrs:grid_square': {'eq': 'GQ'}},\n",
    ")\n",
    "items = search.item_collection()\n",
    "len(items)"
   ]
  },
  {
   "cell_type": "code",
   "execution_count": null,
   "id": "GU6zrpQ9PUAI",
   "metadata": {
    "id": "GU6zrpQ9PUAI"
   },
   "outputs": [],
   "source": [
    "stack = stackstac.stack(items, resolution=10)\n",
    "stack"
   ]
  },
  {
   "cell_type": "markdown",
   "id": "b36b0176-bc0e-4107-b77a-83e90f45faa8",
   "metadata": {},
   "source": [
    "Clip and select the subset of bands."
   ]
  },
  {
   "cell_type": "code",
   "execution_count": null,
   "id": "SjN9SoLMObQ_",
   "metadata": {
    "id": "SjN9SoLMObQ_"
   },
   "outputs": [],
   "source": [
    "geometry = aoi.to_crs(scene.rio.crs).geometry\n",
    "clipped = stack.rio.clip(geometry)\n",
    "subset = clipped.sel(band=['red', 'green', 'blue'])"
   ]
  },
  {
   "cell_type": "code",
   "execution_count": null,
   "id": "xSontCMaK_Ui",
   "metadata": {
    "id": "xSontCMaK_Ui"
   },
   "outputs": [],
   "source": [
    "median = subset.median(dim='time')\n",
    "median"
   ]
  },
  {
   "cell_type": "code",
   "execution_count": null,
   "id": "SEfBhvLzRm1C",
   "metadata": {
    "id": "SEfBhvLzRm1C"
   },
   "outputs": [],
   "source": [
    "%time median = median.compute()"
   ]
  },
  {
   "cell_type": "code",
   "execution_count": null,
   "id": "-BuKK_NCSAH3",
   "metadata": {
    "id": "-BuKK_NCSAH3"
   },
   "outputs": [],
   "source": [
    "output_file = f'median_{year}_{month:02}.tif'\n",
    "output_path = os.path.join(output_folder, output_file)\n",
    "median.rio.to_raster(output_path, driver='COG')\n",
    "print(f'Wrote {output_file}')"
   ]
  },
  {
   "cell_type": "code",
   "execution_count": null,
   "id": "b4353618-3bee-4f12-ab07-0c2058c1cf82",
   "metadata": {},
   "outputs": [],
   "source": []
  }
 ],
 "metadata": {
  "colab": {
   "provenance": []
  },
  "kernelspec": {
   "display_name": "Python 3 (ipykernel)",
   "language": "python",
   "name": "python3"
  },
  "language_info": {
   "codemirror_mode": {
    "name": "ipython",
    "version": 3
   },
   "file_extension": ".py",
   "mimetype": "text/x-python",
   "name": "python",
   "nbconvert_exporter": "python",
   "pygments_lexer": "ipython3",
   "version": "3.12.3"
  }
 },
 "nbformat": 4,
 "nbformat_minor": 5
}
