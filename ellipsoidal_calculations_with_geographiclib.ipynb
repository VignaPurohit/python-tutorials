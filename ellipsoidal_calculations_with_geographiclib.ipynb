{
  "nbformat": 4,
  "nbformat_minor": 0,
  "metadata": {
    "colab": {
      "provenance": [],
      "authorship_tag": "ABX9TyO0y1vwoP097faLtk7ylMNA"
    },
    "kernelspec": {
      "name": "python3",
      "display_name": "Python 3"
    },
    "language_info": {
      "name": "python"
    }
  },
  "cells": [
    {
      "cell_type": "markdown",
      "source": [
        "## Geodesic Calculations using GeographicLib"
      ],
      "metadata": {
        "id": "N6CsIukeW1-7"
      }
    },
    {
      "cell_type": "markdown",
      "metadata": {
        "id": "JepwzAj2U5L5"
      },
      "source": [
        "## Setup and Data Download\n",
        "\n",
        "The following blocks of code will install the required packages and download the datasets to your Colab environment."
      ]
    },
    {
      "cell_type": "code",
      "execution_count": 1,
      "metadata": {
        "id": "Bv5B0Pq-U5L5"
      },
      "outputs": [],
      "source": [
        "%%capture\n",
        "try:\n",
        "    import geographiclib\n",
        "except ModuleNotFoundError:\n",
        "    if 'google.colab' in str(get_ipython()):\n",
        "        !pip install geographiclib\n",
        "    else:\n",
        "        print('geographiclib not found, please install via conda in your environment')"
      ]
    },
    {
      "cell_type": "code",
      "execution_count": 2,
      "metadata": {
        "id": "uQovPAjjU5L6"
      },
      "outputs": [],
      "source": [
        "from geographiclib.geodesic import Geodesic\n",
        "import math"
      ]
    },
    {
      "cell_type": "markdown",
      "source": [
        "Use the WGS84 Ellipsoid"
      ],
      "metadata": {
        "id": "EUSzg0Y_LJMj"
      }
    },
    {
      "cell_type": "code",
      "source": [
        "ellipsoid = Geodesic.WGS84"
      ],
      "metadata": {
        "id": "iH-IUmOrLHRw"
      },
      "execution_count": 3,
      "outputs": []
    },
    {
      "cell_type": "markdown",
      "source": [
        "Calculate the Area of a Polygon.\n",
        "\n",
        "Let's calculate area of a polygon having the corner coordinates as follows\n",
        "\n",
        "- Bottom-Left : 12.838558278, 77.406984538 (Latitude, Longitude)\n",
        "- Top-Right : 13.101058278, 77.769608916 (Latitude, Longitude)"
      ],
      "metadata": {
        "id": "lWc0H-_SLbRg"
      }
    },
    {
      "cell_type": "code",
      "source": [
        "minlat, minlon, maxlat, maxlon = [12.838558278, 77.406984538, 13.101058278, 77.769608916]"
      ],
      "metadata": {
        "id": "gQXgBHGULOzD"
      },
      "execution_count": 40,
      "outputs": []
    },
    {
      "cell_type": "code",
      "source": [
        "points = [\n",
        "  (minlat, minlon),\n",
        "  (minlat, maxlon),\n",
        "  (maxlat, maxlon),\n",
        "  (maxlat, minlon),\n",
        "]"
      ],
      "metadata": {
        "id": "LBkgFj3bMJ4_"
      },
      "execution_count": 41,
      "outputs": []
    },
    {
      "cell_type": "code",
      "source": [
        "polygon = ellipsoid.Polygon()\n",
        "for x, y in points:\n",
        "  polygon.AddPoint(x, y)"
      ],
      "metadata": {
        "id": "VMAM5cm4MSaP"
      },
      "execution_count": 42,
      "outputs": []
    },
    {
      "cell_type": "code",
      "source": [
        "num_points, perimeter, area = polygon.Compute()"
      ],
      "metadata": {
        "id": "qw6nmKpCMgMQ"
      },
      "execution_count": 43,
      "outputs": []
    },
    {
      "cell_type": "code",
      "source": [
        "area"
      ],
      "metadata": {
        "id": "BaZiGdgkNCtu",
        "outputId": "a203b987-ae27-41ff-9983-3b73c18dd4a6",
        "colab": {
          "base_uri": "https://localhost:8080/"
        }
      },
      "execution_count": 44,
      "outputs": [
        {
          "output_type": "execute_result",
          "data": {
            "text/plain": [
              "1142568212.992035"
            ]
          },
          "metadata": {},
          "execution_count": 44
        }
      ]
    },
    {
      "cell_type": "code",
      "source": [
        "area_sqkm = area/1e6"
      ],
      "metadata": {
        "id": "bvY9rKWOMkZQ"
      },
      "execution_count": 45,
      "outputs": []
    },
    {
      "cell_type": "code",
      "source": [
        "print(f'Area of the polygon is {area_sqkm:.2f} sq. km.')"
      ],
      "metadata": {
        "id": "mh848K6OM02v",
        "outputId": "3f5c057d-8fa2-4e1e-82ac-f4ed4c58c910",
        "colab": {
          "base_uri": "https://localhost:8080/"
        }
      },
      "execution_count": 46,
      "outputs": [
        {
          "output_type": "stream",
          "name": "stdout",
          "text": [
            "Area of the polygon is 1142.57 sq. km.\n"
          ]
        }
      ]
    }
  ]
}