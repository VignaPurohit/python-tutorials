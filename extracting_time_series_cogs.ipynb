{
 "cells": [
  {
   "cell_type": "code",
   "execution_count": null,
   "id": "f906f394-f737-456c-86d2-95f549b6b760",
   "metadata": {},
   "outputs": [],
   "source": []
  },
  {
   "cell_type": "markdown",
   "id": "a6973a51-8385-4a35-ac12-c60d1d2306f0",
   "metadata": {
    "id": "VCi5DKHB7jag"
   },
   "source": [
    "# Extracting Time-Series from Cloud-Optimized GeoTIFFs (COGs)\n",
    "\n",
    "## **Overview**\n",
    "\n",
    "This notebook shows how to use XArray to efficiently extract pixels values from cloud-optimized GeoTIFF files hosted on cloud-buckets.\n",
    "\n",
    "We want to sample pixel values from 12 individual GeoTIFF files representing Soil Moisture for each month of a year at multiple different locations. \n",
    "\n",
    "\n"
   ]
  },
  {
   "cell_type": "markdown",
   "id": "b766853e-160c-42bf-aa4d-88d114044ca9",
   "metadata": {
    "id": "YauILMlxtHa_"
   },
   "source": [
    "## Setup and Data Download\n",
    "\n",
    "The following blocks of code will install the required packages and download the datasets to your Colab environment."
   ]
  },
  {
   "cell_type": "code",
   "execution_count": null,
   "id": "6058b268-9e94-416c-9698-4888111c9b10",
   "metadata": {
    "id": "aQpTzbC0l73O"
   },
   "outputs": [],
   "source": [
    "%%capture\n",
    "if 'google.colab' in str(get_ipython()):\n",
    "    !pip install rioxarray"
   ]
  },
  {
   "cell_type": "code",
   "execution_count": null,
   "id": "5bfbcbc0-342a-4c5e-8571-97612f17bc9f",
   "metadata": {
    "id": "Ghkgm9n_ZX-u"
   },
   "outputs": [],
   "source": [
    "import datetime\n",
    "import glob\n",
    "import os\n",
    "import re\n",
    "import matplotlib.pyplot as plt\n",
    "import numpy as np\n",
    "import pandas as pd\n",
    "import geopandas as gpd\n",
    "import xarray as xr\n",
    "import rioxarray as rxr\n",
    "import zipfile"
   ]
  },
  {
   "cell_type": "code",
   "execution_count": null,
   "id": "5a15d957-6bc8-4872-bda0-6074cbd1a162",
   "metadata": {
    "id": "sSvffB_ToEE9"
   },
   "outputs": [],
   "source": [
    "data_folder = 'data'\n",
    "output_folder = 'output'\n",
    "\n",
    "if not os.path.exists(data_folder):\n",
    "    os.mkdir(data_folder)\n",
    "if not os.path.exists(output_folder):\n",
    "    os.mkdir(output_folder)"
   ]
  },
  {
   "cell_type": "markdown",
   "id": "5176dfb3-172d-4f77-9909-44cbbf80ec42",
   "metadata": {
    "id": "2xOPeZxZw9RN"
   },
   "source": [
    "# Data Pre-Processing"
   ]
  },
  {
   "cell_type": "markdown",
   "id": "97712af7-88b5-4023-bd57-b6a65816cecb",
   "metadata": {},
   "source": [
    "In this example, we have a folder on Google Cloud Storage (GCS) has 12 Cloud-Optomized GeoTIFF files representing soil moisture for each month. The file URIs are as below\n",
    "\n",
    "```\n",
    "gs://spatialthoughts-public-data/terraclimate/soil_moisture_202301.tif\n",
    "gs://spatialthoughts-public-data/terraclimate/soil_moisture_202302.tif\n",
    "gs://spatialthoughts-public-data/terraclimate/soil_moisture_202303.tif\n",
    "...\n",
    "```\n",
    "\n",
    "First we create an XArray Dataset from these individual files."
   ]
  },
  {
   "cell_type": "markdown",
   "id": "64127586-c243-4e82-b8c4-d9b5c87a42fe",
   "metadata": {},
   "source": [
    "The files will be read using the GDAL library which allows reading cloud-hosted files directly. Files on Google Cloud Storage can be read using the `/vsigs/` prefix. Since our files are public, we specify the `GS_NO_SIGN_REQUEST=YES` option. For accessing data on private bucket, see the authentication options specified in [GDAL and Google Cloud Storage (GCS)\n",
    "](https://spatialthoughts.com/2024/02/26/gdal-google-cloud-storage/)."
   ]
  },
  {
   "cell_type": "code",
   "execution_count": null,
   "id": "6b03b8d5-92c2-423f-a523-4fe988827954",
   "metadata": {},
   "outputs": [],
   "source": [
    "os.environ['GS_NO_SIGN_REQUEST'] = 'YES'\n",
    "prefix = '/vsigs/spatialthoughts-public-data/terraclimate/'"
   ]
  },
  {
   "cell_type": "code",
   "execution_count": null,
   "id": "0e4d3b03-a52b-4efa-920e-9820feb01b1b",
   "metadata": {},
   "outputs": [],
   "source": [
    "# Create a list of URIs with /vgigs/ prefix\n",
    "urls = []\n",
    "for month in range(1, 13):\n",
    "    image_id = f'soil_moisture_2023{month:02d}.tif'\n",
    "    path = prefix + image_id\n",
    "    urls.append(path)\n",
    "\n",
    "urls"
   ]
  },
  {
   "cell_type": "code",
   "execution_count": null,
   "id": "eb386def-b66e-41cc-b25b-f7d0629cf9dd",
   "metadata": {
    "id": "rOxxafntANLH"
   },
   "outputs": [],
   "source": [
    "def path_to_datetimeindex(filepath):\n",
    "  filename = os.path.basename(filepath)\n",
    "  pattern = r'soil_moisture_(\\d+).tif'\n",
    "  match = re.search(pattern, filepath)\n",
    "  if match:\n",
    "      doy_value = match.group(1)\n",
    "      timestamp = datetime.datetime.strptime(doy_value, '%Y%m')\n",
    "      return timestamp\n",
    "  else:\n",
    "    print('Could not extract DOY from filename', filename)\n",
    "\n",
    "\n",
    "timestamps = []\n",
    "filepaths = []\n",
    "\n",
    "for filepath in urls:\n",
    "  timestamp = path_to_datetimeindex(filepath)\n",
    "  filepaths.append(filepath)\n",
    "  timestamps.append(timestamp)\n",
    "\n",
    "unique_timestamps = sorted(set(timestamps))"
   ]
  },
  {
   "cell_type": "code",
   "execution_count": null,
   "id": "37d73e05-08c5-426f-903e-021de33ebc40",
   "metadata": {
    "id": "JvJcKMpsbPPW"
   },
   "outputs": [],
   "source": [
    "scenes = []\n",
    "\n",
    "for timestamp in unique_timestamps:\n",
    "  filename = f'soil_moisture_{timestamp.strftime('%Y%m')}.tif'\n",
    "  filepath = prefix + filename\n",
    "  print(f'Reading {filepath}')\n",
    "  scene = rxr.open_rasterio(filepath, chunks={'x':512, 'y':512})\n",
    "  scenes.append(scene)"
   ]
  },
  {
   "cell_type": "code",
   "execution_count": null,
   "id": "e5153bc3-48c9-42f9-8c86-f653729331ae",
   "metadata": {
    "colab": {
     "base_uri": "https://localhost:8080/",
     "height": 434
    },
    "id": "OVvxLI0FtTFy",
    "outputId": "00f0d645-82b8-436d-9c3e-e1113bbf3fca"
   },
   "outputs": [],
   "source": [
    "time_var = xr.Variable('time', list(unique_timestamps))\n",
    "\n",
    "time_series_scenes = xr.concat(scenes, dim=time_var)\n",
    "time_series_scenes"
   ]
  },
  {
   "cell_type": "markdown",
   "id": "74e10126-543b-4c5b-b0a7-18d06d27ff21",
   "metadata": {
    "id": "2mwi_NdtF5oE"
   },
   "source": [
    "## Plotting the time-series"
   ]
  },
  {
   "cell_type": "markdown",
   "id": "c44af1df-afa5-4df7-b17c-f6f5b7080cc3",
   "metadata": {
    "id": "J5BwcoGN1ZR-"
   },
   "source": [
    "We extract the time-series at a specific X,Y coordinate."
   ]
  },
  {
   "cell_type": "code",
   "execution_count": null,
   "id": "b1cf8079-dea2-480e-b7bb-7cf7ec6aa641",
   "metadata": {
    "id": "r33rthlc61UP"
   },
   "outputs": [],
   "source": [
    "time_series = time_series_scenes.interp(x=80.449, y=18.728)"
   ]
  },
  {
   "cell_type": "code",
   "execution_count": 20,
   "id": "3c61f375-55f8-442e-bd9b-8a8b34a1081c",
   "metadata": {
    "colab": {
     "base_uri": "https://localhost:8080/",
     "height": 633
    },
    "id": "aim3uBoq66C0",
    "outputId": "56aafb1a-2ff0-4265-c052-0ba491e9629d"
   },
   "outputs": [
    {
     "data": {
      "image/png": "[encoded data removed]",
      "text/plain": [
       "<Figure size 1500x700 with 1 Axes>"
      ]
     },
     "metadata": {},
     "output_type": "display_data"
    }
   ],
   "source": [
    "fig, ax = plt.subplots(1, 1)\n",
    "\n",
    "fig.set_size_inches(15, 7)\n",
    "time_series.plot.line(ax=ax, x='time', marker='o', linestyle='-', linewidth=1)\n",
    "plt.show()"
   ]
  },
  {
   "cell_type": "markdown",
   "id": "81d1316c-e963-4b4e-b73c-509f8178a7c6",
   "metadata": {},
   "source": [
    "## Extracting Time-Series at Multiple Locations"
   ]
  },
  {
   "cell_type": "code",
   "execution_count": null,
   "id": "4303979c-6ea4-43c0-a553-5585ac4fe22e",
   "metadata": {},
   "outputs": [],
   "source": [
    "locations = [\n",
    "    ('Location 1', 80.449, 18.728),\n",
    "    ('Location 2', 79.1488, 15.2797),\n",
    "    ('Location 3', 74.656, 25.144)\n",
    "]"
   ]
  },
  {
   "cell_type": "code",
   "execution_count": null,
   "id": "488de0ac-7a40-427c-a140-62a3cc30c9cb",
   "metadata": {},
   "outputs": [],
   "source": [
    "df = pd.DataFrame(locations, columns=['Name', 'x', 'y'])\n",
    "geometry = gpd.points_from_xy(df.x, df.y)\n",
    "gdf = gpd.GeoDataFrame(df, crs='EPSG:4326', geometry=geometry)\n",
    "gdf"
   ]
  },
  {
   "cell_type": "code",
   "execution_count": null,
   "id": "a6b42699-c0d8-4c13-ad5e-7c6735067d13",
   "metadata": {},
   "outputs": [],
   "source": [
    "x_coords = gdf.geometry.x.to_xarray()\n",
    "y_coords = gdf.geometry.y.to_xarray()"
   ]
  },
  {
   "cell_type": "code",
   "execution_count": null,
   "id": "e24530b7-1968-4efb-a125-585819eef700",
   "metadata": {},
   "outputs": [],
   "source": [
    "sampled = time_series_scenes.sel(x=x_coords, y=y_coords, method='nearest')"
   ]
  },
  {
   "cell_type": "markdown",
   "id": "c37ef7ae-c504-4632-9572-884a8f94fe7e",
   "metadata": {},
   "source": [
    "Convert the sampled dataset to a Pandas Series."
   ]
  },
  {
   "cell_type": "code",
   "execution_count": null,
   "id": "446ee697-3486-4c26-888e-eb6eb75f1495",
   "metadata": {},
   "outputs": [],
   "source": [
    "sampled_df = sampled.to_series()\n",
    "sampled_df.name = 'soil_moisture'\n",
    "sampled_df = sampled_df.reset_index()\n",
    "sampled_df"
   ]
  },
  {
   "cell_type": "markdown",
   "id": "faa5de14-fcb2-495b-b682-b71c1aa7d8a2",
   "metadata": {},
   "source": [
    "Add a formatted time column"
   ]
  },
  {
   "cell_type": "code",
   "execution_count": null,
   "id": "50cae2fc-2a59-46d0-ab78-c484c772bb97",
   "metadata": {},
   "outputs": [],
   "source": [
    "sampled_df['formatted_time'] = sampled_df['time'].dt.strftime(\"%Y_%m\")\n",
    "sampled_df"
   ]
  },
  {
   "cell_type": "markdown",
   "id": "16064aa6-137b-4dab-8dc7-0fef3fc4b840",
   "metadata": {},
   "source": [
    "Convert this to a wide table, with each month's value as a column."
   ]
  },
  {
   "cell_type": "code",
   "execution_count": null,
   "id": "cdf44ce9-27f0-4944-8502-a26e35f4d533",
   "metadata": {},
   "outputs": [],
   "source": [
    "wide_df = sampled_df.pivot(index='index', columns='formatted_time', values='soil_moisture')\n",
    "wide_df = wide_df.reset_index()\n",
    "wide_df"
   ]
  },
  {
   "cell_type": "markdown",
   "id": "6617877e-2bb7-4223-ae04-3817c4f69c46",
   "metadata": {},
   "source": [
    "Merge the extracted value with the original data."
   ]
  },
  {
   "cell_type": "code",
   "execution_count": null,
   "id": "e478336a-1f63-4a4d-9e81-f00784f42deb",
   "metadata": {},
   "outputs": [],
   "source": [
    "merged = pd.merge(gdf, wide_df, left_index=True, right_index=True)\n",
    "merged"
   ]
  },
  {
   "cell_type": "markdown",
   "id": "e543f07b-9f48-4dbd-b3f9-d072025cad70",
   "metadata": {},
   "source": [
    "Finally, we save the sampled result to disk as a CSV."
   ]
  },
  {
   "cell_type": "code",
   "execution_count": null,
   "id": "3a257071-eb75-4d9e-9580-7dcb8e8bdb06",
   "metadata": {},
   "outputs": [],
   "source": [
    "output_filename = 'soil_moisture.csv'\n",
    "output_path = os.path.join(output_folder, output_filename)\n",
    "output_df = merged.drop(columns=['geometry', 'index'])\n",
    "output_df.to_csv(output_path, index=False)"
   ]
  }
 ],
 "metadata": {
  "kernelspec": {
   "display_name": "Python 3 (ipykernel)",
   "language": "python",
   "name": "python3"
  },
  "language_info": {
   "codemirror_mode": {
    "name": "ipython",
    "version": 3
   },
   "file_extension": ".py",
   "mimetype": "text/x-python",
   "name": "python",
   "nbconvert_exporter": "python",
   "pygments_lexer": "ipython3",
   "version": "3.13.1"
  }
 },
 "nbformat": 4,
 "nbformat_minor": 5
}
