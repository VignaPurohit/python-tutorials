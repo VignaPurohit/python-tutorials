{
  "nbformat": 4,
  "nbformat_minor": 0,
  "metadata": {
    "colab": {
      "provenance": []
    },
    "kernelspec": {
      "name": "python3",
      "display_name": "Python 3"
    },
    "language_info": {
      "name": "python"
    }
  },
  "cells": [
    {
      "cell_type": "markdown",
      "source": [
        "# Processing Time Series (GEE and XArray)\n",
        "\n",
        "## **Overview**\n",
        "\n",
        "This is a demonstration of how we can use the [XEE](https://github.com/google/Xee) package to extract time-series images from Earth Engine and then use XArray to apply smoothing and interpolation and save the processed images as GeoTIFF files locally.\n"
      ],
      "metadata": {
        "id": "VCi5DKHB7jag"
      }
    },
    {
      "cell_type": "markdown",
      "source": [
        "## Setup and Data Download\n",
        "\n",
        "The following blocks of code will install the required packages and download the datasets to your Colab environment."
      ],
      "metadata": {
        "id": "YauILMlxtHa_"
      }
    },
    {
      "cell_type": "code",
      "source": [
        "%%capture\n",
        "if 'google.colab' in str(get_ipython()):\n",
        "    !pip install --upgrade xee\n",
        "    !pip install rioxarray\n"
      ],
      "metadata": {
        "id": "aQpTzbC0l73O"
      },
      "execution_count": null,
      "outputs": []
    },
    {
      "cell_type": "code",
      "source": [
        "import ee\n",
        "import xarray\n",
        "import rioxarray as rxr\n",
        "import matplotlib.pyplot as plt\n",
        "import pandas as pd\n",
        "import os\n",
        "import datetime\n",
        "import numpy as np"
      ],
      "metadata": {
        "id": "NaQVEndwjA-K"
      },
      "execution_count": null,
      "outputs": []
    },
    {
      "cell_type": "code",
      "source": [
        "output_folder = 'output'\n",
        "\n",
        "if not os.path.exists(output_folder):\n",
        "    os.mkdir(output_folder)"
      ],
      "metadata": {
        "id": "CZ5RXe5hzE-v"
      },
      "execution_count": null,
      "outputs": []
    },
    {
      "cell_type": "code",
      "source": [
        "ee.Authenticate()"
      ],
      "metadata": {
        "id": "JMQYA2EHjVlB"
      },
      "execution_count": null,
      "outputs": []
    },
    {
      "cell_type": "code",
      "source": [
        "ee.Initialize(opt_url='https://earthengine-highvolume.googleapis.com')"
      ],
      "metadata": {
        "id": "HE-KmIohjc9I"
      },
      "execution_count": null,
      "outputs": []
    },
    {
      "cell_type": "markdown",
      "source": [
        "We start with the MODIS Vegetation Indices Version 6.1 data. We pre-process the data by applying cloud masking and pixel scaling."
      ],
      "metadata": {
        "id": "2MMuY8Ic-pX3"
      }
    },
    {
      "cell_type": "code",
      "source": [
        "modis = ee.ImageCollection('MODIS/061/MOD13Q1')\n",
        "\n",
        "startDate = ee.Date.fromYMD(2020, 1, 1)\n",
        "endDate = startDate.advance(2, 'year')\n",
        "filtered = modis.filter(ee.Filter.date(startDate, endDate))\n",
        "\n",
        "# Cloud Masking\n",
        "def bitwiseExtract(input, fromBit, toBit):\n",
        "  maskSize = ee.Number(1).add(toBit).subtract(fromBit)\n",
        "  mask = ee.Number(1).leftShift(maskSize).subtract(1)\n",
        "  return input.rightShift(fromBit).bitwiseAnd(mask)\n",
        "\n",
        "def maskSnowAndClouds(image):\n",
        "  summaryQa = image.select('SummaryQA')\n",
        "  # Select pixels which are less than or equals to 1 (0 or 1)\n",
        "  qaMask = bitwiseExtract(summaryQa, 0, 1).lte(1)\n",
        "  maskedImage = image.updateMask(qaMask)\n",
        "  return maskedImage.copyProperties(image, ['system:index', 'system:time_start'])\n",
        "\n",
        "# MODIS VI values come as VI x 10000 that need to be scaled by 0.0001\n",
        "def scaleBands(image):\n",
        "  scaled = image.multiply(0.0001)\n",
        "  return scaled.copyProperties(image, ['system:index', 'system:time_start'])\n",
        "\n",
        "# Apply the function to all images in the collection\n",
        "maskedCol = filtered \\\n",
        "  .map(maskSnowAndClouds) \\\n",
        "  .map(scaleBands)\n"
      ],
      "metadata": {
        "id": "0xLu9-Oqj2pk"
      },
      "execution_count": null,
      "outputs": []
    },
    {
      "cell_type": "markdown",
      "source": [
        "Now we have an ImageCollection that we want to get it as a XArray Dataset. We define the region of interest and extract the ImageCollection using the 'ee' engine.\n",
        "\n",
        "Our region of interest is in South India with the UTM Zone 46N. So we request the pixels in EPSG:32643 at 250m resolution."
      ],
      "metadata": {
        "id": "meBFO01O-2SQ"
      }
    },
    {
      "cell_type": "code",
      "source": [
        "aoi = ee.Geometry.Rectangle(77, 12, 79, 15)\n",
        "\n",
        "ds = xarray.open_dataset(\n",
        "    maskedCol,\n",
        "    engine='ee',\n",
        "    crs='EPSG:32643',\n",
        "    scale=250,\n",
        "    geometry=aoi,\n",
        ")"
      ],
      "metadata": {
        "id": "heqlVMyJkfap"
      },
      "execution_count": null,
      "outputs": []
    },
    {
      "cell_type": "markdown",
      "source": [
        "THe result is a XArray Dataset containing the image time-series."
      ],
      "metadata": {
        "id": "XoBeHoaE_EWq"
      }
    },
    {
      "cell_type": "code",
      "source": [
        "ds"
      ],
      "metadata": {
        "id": "kX44ne6LlAss"
      },
      "execution_count": null,
      "outputs": []
    },
    {
      "cell_type": "markdown",
      "source": [
        "Select the 'NDVI' band."
      ],
      "metadata": {
        "id": "FkCYdbkQ2X__"
      }
    },
    {
      "cell_type": "code",
      "source": [
        "original_time_series = ds.NDVI.chunk(dict(X=100, Y=100, time=-1))\n",
        "original_time_series"
      ],
      "metadata": {
        "id": "CvJMUmj62OkC",
        "colab": {
          "base_uri": "https://localhost:8080/",
          "height": 440
        },
        "outputId": "3129a789-f355-4a5c-edc6-81120ff619fd"
      },
      "execution_count": 34,
      "outputs": [
        {
          "output_type": "execute_result",
          "data": {
            "text/plain": [
              "<xarray.DataArray 'NDVI' (time: 46, X: 851, Y: 1341)>\n",
              "dask.array<xarray-<this-array>, shape=(46, 851, 1341), dtype=float64, chunksize=(46, 100, 100), chunktype=numpy.ndarray>\n",
              "Coordinates:\n",
              "  * time     (time) datetime64[ns] 2020-01-01 2020-01-17 ... 2021-12-19\n",
              "  * X        (X) float32 77.03 77.03 77.03 77.03 77.04 ... 78.99 79.0 79.0 79.0\n",
              "  * Y        (Y) float32 15.03 15.02 15.02 15.02 15.02 ... 12.01 12.0 12.0 12.0\n",
              "Attributes:\n",
              "    id:             NDVI\n",
              "    data_type:      {'type': 'PixelType', 'precision': 'double', 'min': -3.27...\n",
              "    dimensions:     [172800, 67200]\n",
              "    crs:            SR-ORG:6974\n",
              "    crs_transform:  [231.65635826395825, 0, -20015109.354, 0, -231.6563582639..."
            ],
            "text/html": [
              "<div><svg style=\"position: absolute; width: 0; height: 0; overflow: hidden\">\n",
              "<defs>\n",
              "<symbol id=\"icon-database\" viewBox=\"0 0 32 32\">\n",
              "<path d=\"M16 0c-8.837 0-16 2.239-16 5v4c0 2.761 7.163 5 16 5s16-2.239 16-5v-4c0-2.761-7.163-5-16-5z\"></path>\n",
              "<path d=\"M16 17c-8.837 0-16-2.239-16-5v6c0 2.761 7.163 5 16 5s16-2.239 16-5v-6c0 2.761-7.163 5-16 5z\"></path>\n",
              "<path d=\"M16 26c-8.837 0-16-2.239-16-5v6c0 2.761 7.163 5 16 5s16-2.239 16-5v-6c0 2.761-7.163 5-16 5z\"></path>\n",
              "</symbol>\n",
              "<symbol id=\"icon-file-text2\" viewBox=\"0 0 32 32\">\n",
              "<path d=\"M28.681 7.159c-0.694-0.947-1.662-2.053-2.724-3.116s-2.169-2.030-3.116-2.724c-1.612-1.182-2.393-1.319-2.841-1.319h-15.5c-1.378 0-2.5 1.121-2.5 2.5v27c0 1.378 1.122 2.5 2.5 2.5h23c1.378 0 2.5-1.122 2.5-2.5v-19.5c0-0.448-0.137-1.23-1.319-2.841zM24.543 5.457c0.959 0.959 1.712 1.825 2.268 2.543h-4.811v-4.811c0.718 0.556 1.584 1.309 2.543 2.268zM28 29.5c0 0.271-0.229 0.5-0.5 0.5h-23c-0.271 0-0.5-0.229-0.5-0.5v-27c0-0.271 0.229-0.5 0.5-0.5 0 0 15.499-0 15.5 0v7c0 0.552 0.448 1 1 1h7v19.5z\"></path>\n",
              "<path d=\"M23 26h-14c-0.552 0-1-0.448-1-1s0.448-1 1-1h14c0.552 0 1 0.448 1 1s-0.448 1-1 1z\"></path>\n",
              "<path d=\"M23 22h-14c-0.552 0-1-0.448-1-1s0.448-1 1-1h14c0.552 0 1 0.448 1 1s-0.448 1-1 1z\"></path>\n",
              "<path d=\"M23 18h-14c-0.552 0-1-0.448-1-1s0.448-1 1-1h14c0.552 0 1 0.448 1 1s-0.448 1-1 1z\"></path>\n",
              "</symbol>\n",
              "</defs>\n",
              "</svg>\n",
              "<style>/* CSS stylesheet for displaying xarray objects in jupyterlab.\n",
              " *\n",
              " */\n",
              "\n",
              ":root {\n",
              "  --xr-font-color0: var(--jp-content-font-color0, rgba(0, 0, 0, 1));\n",
              "  --xr-font-color2: var(--jp-content-font-color2, rgba(0, 0, 0, 0.54));\n",
              "  --xr-font-color3: var(--jp-content-font-color3, rgba(0, 0, 0, 0.38));\n",
              "  --xr-border-color: var(--jp-border-color2, #e0e0e0);\n",
              "  --xr-disabled-color: var(--jp-layout-color3, #bdbdbd);\n",
              "  --xr-background-color: var(--jp-layout-color0, white);\n",
              "  --xr-background-color-row-even: var(--jp-layout-color1, white);\n",
              "  --xr-background-color-row-odd: var(--jp-layout-color2, #eeeeee);\n",
              "}\n",
              "\n",
              "html[theme=dark],\n",
              "body[data-theme=dark],\n",
              "body.vscode-dark {\n",
              "  --xr-font-color0: rgba(255, 255, 255, 1);\n",
              "  --xr-font-color2: rgba(255, 255, 255, 0.54);\n",
              "  --xr-font-color3: rgba(255, 255, 255, 0.38);\n",
              "  --xr-border-color: #1F1F1F;\n",
              "  --xr-disabled-color: #515151;\n",
              "  --xr-background-color: #111111;\n",
              "  --xr-background-color-row-even: #111111;\n",
              "  --xr-background-color-row-odd: #313131;\n",
              "}\n",
              "\n",
              ".xr-wrap {\n",
              "  display: block !important;\n",
              "  min-width: 300px;\n",
              "  max-width: 700px;\n",
              "}\n",
              "\n",
              ".xr-text-repr-fallback {\n",
              "  /* fallback to plain text repr when CSS is not injected (untrusted notebook) */\n",
              "  display: none;\n",
              "}\n",
              "\n",
              ".xr-header {\n",
              "  padding-top: 6px;\n",
              "  padding-bottom: 6px;\n",
              "  margin-bottom: 4px;\n",
              "  border-bottom: solid 1px var(--xr-border-color);\n",
              "}\n",
              "\n",
              ".xr-header > div,\n",
              ".xr-header > ul {\n",
              "  display: inline;\n",
              "  margin-top: 0;\n",
              "  margin-bottom: 0;\n",
              "}\n",
              "\n",
              ".xr-obj-type,\n",
              ".xr-array-name {\n",
              "  margin-left: 2px;\n",
              "  margin-right: 10px;\n",
              "}\n",
              "\n",
              ".xr-obj-type {\n",
              "  color: var(--xr-font-color2);\n",
              "}\n",
              "\n",
              ".xr-sections {\n",
              "  padding-left: 0 !important;\n",
              "  display: grid;\n",
              "  grid-template-columns: 150px auto auto 1fr 20px 20px;\n",
              "}\n",
              "\n",
              ".xr-section-item {\n",
              "  display: contents;\n",
              "}\n",
              "\n",
              ".xr-section-item input {\n",
              "  display: none;\n",
              "}\n",
              "\n",
              ".xr-section-item input + label {\n",
              "  color: var(--xr-disabled-color);\n",
              "}\n",
              "\n",
              ".xr-section-item input:enabled + label {\n",
              "  cursor: pointer;\n",
              "  color: var(--xr-font-color2);\n",
              "}\n",
              "\n",
              ".xr-section-item input:enabled + label:hover {\n",
              "  color: var(--xr-font-color0);\n",
              "}\n",
              "\n",
              ".xr-section-summary {\n",
              "  grid-column: 1;\n",
              "  color: var(--xr-font-color2);\n",
              "  font-weight: 500;\n",
              "}\n",
              "\n",
              ".xr-section-summary > span {\n",
              "  display: inline-block;\n",
              "  padding-left: 0.5em;\n",
              "}\n",
              "\n",
              ".xr-section-summary-in:disabled + label {\n",
              "  color: var(--xr-font-color2);\n",
              "}\n",
              "\n",
              ".xr-section-summary-in + label:before {\n",
              "  display: inline-block;\n",
              "  content: '►';\n",
              "  font-size: 11px;\n",
              "  width: 15px;\n",
              "  text-align: center;\n",
              "}\n",
              "\n",
              ".xr-section-summary-in:disabled + label:before {\n",
              "  color: var(--xr-disabled-color);\n",
              "}\n",
              "\n",
              ".xr-section-summary-in:checked + label:before {\n",
              "  content: '▼';\n",
              "}\n",
              "\n",
              ".xr-section-summary-in:checked + label > span {\n",
              "  display: none;\n",
              "}\n",
              "\n",
              ".xr-section-summary,\n",
              ".xr-section-inline-details {\n",
              "  padding-top: 4px;\n",
              "  padding-bottom: 4px;\n",
              "}\n",
              "\n",
              ".xr-section-inline-details {\n",
              "  grid-column: 2 / -1;\n",
              "}\n",
              "\n",
              ".xr-section-details {\n",
              "  display: none;\n",
              "  grid-column: 1 / -1;\n",
              "  margin-bottom: 5px;\n",
              "}\n",
              "\n",
              ".xr-section-summary-in:checked ~ .xr-section-details {\n",
              "  display: contents;\n",
              "}\n",
              "\n",
              ".xr-array-wrap {\n",
              "  grid-column: 1 / -1;\n",
              "  display: grid;\n",
              "  grid-template-columns: 20px auto;\n",
              "}\n",
              "\n",
              ".xr-array-wrap > label {\n",
              "  grid-column: 1;\n",
              "  vertical-align: top;\n",
              "}\n",
              "\n",
              ".xr-preview {\n",
              "  color: var(--xr-font-color3);\n",
              "}\n",
              "\n",
              ".xr-array-preview,\n",
              ".xr-array-data {\n",
              "  padding: 0 5px !important;\n",
              "  grid-column: 2;\n",
              "}\n",
              "\n",
              ".xr-array-data,\n",
              ".xr-array-in:checked ~ .xr-array-preview {\n",
              "  display: none;\n",
              "}\n",
              "\n",
              ".xr-array-in:checked ~ .xr-array-data,\n",
              ".xr-array-preview {\n",
              "  display: inline-block;\n",
              "}\n",
              "\n",
              ".xr-dim-list {\n",
              "  display: inline-block !important;\n",
              "  list-style: none;\n",
              "  padding: 0 !important;\n",
              "  margin: 0;\n",
              "}\n",
              "\n",
              ".xr-dim-list li {\n",
              "  display: inline-block;\n",
              "  padding: 0;\n",
              "  margin: 0;\n",
              "}\n",
              "\n",
              ".xr-dim-list:before {\n",
              "  content: '(';\n",
              "}\n",
              "\n",
              ".xr-dim-list:after {\n",
              "  content: ')';\n",
              "}\n",
              "\n",
              ".xr-dim-list li:not(:last-child):after {\n",
              "  content: ',';\n",
              "  padding-right: 5px;\n",
              "}\n",
              "\n",
              ".xr-has-index {\n",
              "  font-weight: bold;\n",
              "}\n",
              "\n",
              ".xr-var-list,\n",
              ".xr-var-item {\n",
              "  display: contents;\n",
              "}\n",
              "\n",
              ".xr-var-item > div,\n",
              ".xr-var-item label,\n",
              ".xr-var-item > .xr-var-name span {\n",
              "  background-color: var(--xr-background-color-row-even);\n",
              "  margin-bottom: 0;\n",
              "}\n",
              "\n",
              ".xr-var-item > .xr-var-name:hover span {\n",
              "  padding-right: 5px;\n",
              "}\n",
              "\n",
              ".xr-var-list > li:nth-child(odd) > div,\n",
              ".xr-var-list > li:nth-child(odd) > label,\n",
              ".xr-var-list > li:nth-child(odd) > .xr-var-name span {\n",
              "  background-color: var(--xr-background-color-row-odd);\n",
              "}\n",
              "\n",
              ".xr-var-name {\n",
              "  grid-column: 1;\n",
              "}\n",
              "\n",
              ".xr-var-dims {\n",
              "  grid-column: 2;\n",
              "}\n",
              "\n",
              ".xr-var-dtype {\n",
              "  grid-column: 3;\n",
              "  text-align: right;\n",
              "  color: var(--xr-font-color2);\n",
              "}\n",
              "\n",
              ".xr-var-preview {\n",
              "  grid-column: 4;\n",
              "}\n",
              "\n",
              ".xr-index-preview {\n",
              "  grid-column: 2 / 5;\n",
              "  color: var(--xr-font-color2);\n",
              "}\n",
              "\n",
              ".xr-var-name,\n",
              ".xr-var-dims,\n",
              ".xr-var-dtype,\n",
              ".xr-preview,\n",
              ".xr-attrs dt {\n",
              "  white-space: nowrap;\n",
              "  overflow: hidden;\n",
              "  text-overflow: ellipsis;\n",
              "  padding-right: 10px;\n",
              "}\n",
              "\n",
              ".xr-var-name:hover,\n",
              ".xr-var-dims:hover,\n",
              ".xr-var-dtype:hover,\n",
              ".xr-attrs dt:hover {\n",
              "  overflow: visible;\n",
              "  width: auto;\n",
              "  z-index: 1;\n",
              "}\n",
              "\n",
              ".xr-var-attrs,\n",
              ".xr-var-data,\n",
              ".xr-index-data {\n",
              "  display: none;\n",
              "  background-color: var(--xr-background-color) !important;\n",
              "  padding-bottom: 5px !important;\n",
              "}\n",
              "\n",
              ".xr-var-attrs-in:checked ~ .xr-var-attrs,\n",
              ".xr-var-data-in:checked ~ .xr-var-data,\n",
              ".xr-index-data-in:checked ~ .xr-index-data {\n",
              "  display: block;\n",
              "}\n",
              "\n",
              ".xr-var-data > table {\n",
              "  float: right;\n",
              "}\n",
              "\n",
              ".xr-var-name span,\n",
              ".xr-var-data,\n",
              ".xr-index-name div,\n",
              ".xr-index-data,\n",
              ".xr-attrs {\n",
              "  padding-left: 25px !important;\n",
              "}\n",
              "\n",
              ".xr-attrs,\n",
              ".xr-var-attrs,\n",
              ".xr-var-data,\n",
              ".xr-index-data {\n",
              "  grid-column: 1 / -1;\n",
              "}\n",
              "\n",
              "dl.xr-attrs {\n",
              "  padding: 0;\n",
              "  margin: 0;\n",
              "  display: grid;\n",
              "  grid-template-columns: 125px auto;\n",
              "}\n",
              "\n",
              ".xr-attrs dt,\n",
              ".xr-attrs dd {\n",
              "  padding: 0;\n",
              "  margin: 0;\n",
              "  float: left;\n",
              "  padding-right: 10px;\n",
              "  width: auto;\n",
              "}\n",
              "\n",
              ".xr-attrs dt {\n",
              "  font-weight: normal;\n",
              "  grid-column: 1;\n",
              "}\n",
              "\n",
              ".xr-attrs dt:hover span {\n",
              "  display: inline-block;\n",
              "  background: var(--xr-background-color);\n",
              "  padding-right: 10px;\n",
              "}\n",
              "\n",
              ".xr-attrs dd {\n",
              "  grid-column: 2;\n",
              "  white-space: pre-wrap;\n",
              "  word-break: break-all;\n",
              "}\n",
              "\n",
              ".xr-icon-database,\n",
              ".xr-icon-file-text2,\n",
              ".xr-no-icon {\n",
              "  display: inline-block;\n",
              "  vertical-align: middle;\n",
              "  width: 1em;\n",
              "  height: 1.5em !important;\n",
              "  stroke-width: 0;\n",
              "  stroke: currentColor;\n",
              "  fill: currentColor;\n",
              "}\n",
              "</style><pre class='xr-text-repr-fallback'>&lt;xarray.DataArray &#x27;NDVI&#x27; (time: 46, X: 851, Y: 1341)&gt;\n",
              "dask.array&lt;xarray-&lt;this-array&gt;, shape=(46, 851, 1341), dtype=float64, chunksize=(46, 100, 100), chunktype=numpy.ndarray&gt;\n",
              "Coordinates:\n",
              "  * time     (time) datetime64[ns] 2020-01-01 2020-01-17 ... 2021-12-19\n",
              "  * X        (X) float32 77.03 77.03 77.03 77.03 77.04 ... 78.99 79.0 79.0 79.0\n",
              "  * Y        (Y) float32 15.03 15.02 15.02 15.02 15.02 ... 12.01 12.0 12.0 12.0\n",
              "Attributes:\n",
              "    id:             NDVI\n",
              "    data_type:      {&#x27;type&#x27;: &#x27;PixelType&#x27;, &#x27;precision&#x27;: &#x27;double&#x27;, &#x27;min&#x27;: -3.27...\n",
              "    dimensions:     [172800, 67200]\n",
              "    crs:            SR-ORG:6974\n",
              "    crs_transform:  [231.65635826395825, 0, -20015109.354, 0, -231.6563582639...</pre><div class='xr-wrap' style='display:none'><div class='xr-header'><div class='xr-obj-type'>xarray.DataArray</div><div class='xr-array-name'>'NDVI'</div><ul class='xr-dim-list'><li><span class='xr-has-index'>time</span>: 46</li><li><span class='xr-has-index'>X</span>: 851</li><li><span class='xr-has-index'>Y</span>: 1341</li></ul></div><ul class='xr-sections'><li class='xr-section-item'><div class='xr-array-wrap'><input id='section-034b90b8-b3e5-4faf-aa50-6efafff77a56' class='xr-array-in' type='checkbox' checked><label for='section-034b90b8-b3e5-4faf-aa50-6efafff77a56' title='Show/hide data repr'><svg class='icon xr-icon-database'><use xlink:href='#icon-database'></use></svg></label><div class='xr-array-preview xr-preview'><span>dask.array&lt;chunksize=(46, 100, 100), meta=np.ndarray&gt;</span></div><div class='xr-array-data'><table>\n",
              "    <tr>\n",
              "        <td>\n",
              "            <table style=\"border-collapse: collapse;\">\n",
              "                <thead>\n",
              "                    <tr>\n",
              "                        <td> </td>\n",
              "                        <th> Array </th>\n",
              "                        <th> Chunk </th>\n",
              "                    </tr>\n",
              "                </thead>\n",
              "                <tbody>\n",
              "                    \n",
              "                    <tr>\n",
              "                        <th> Bytes </th>\n",
              "                        <td> 400.50 MiB </td>\n",
              "                        <td> 3.51 MiB </td>\n",
              "                    </tr>\n",
              "                    \n",
              "                    <tr>\n",
              "                        <th> Shape </th>\n",
              "                        <td> (46, 851, 1341) </td>\n",
              "                        <td> (46, 100, 100) </td>\n",
              "                    </tr>\n",
              "                    <tr>\n",
              "                        <th> Dask graph </th>\n",
              "                        <td colspan=\"2\"> 126 chunks in 2 graph layers </td>\n",
              "                    </tr>\n",
              "                    <tr>\n",
              "                        <th> Data type </th>\n",
              "                        <td colspan=\"2\"> float64 numpy.ndarray </td>\n",
              "                    </tr>\n",
              "                </tbody>\n",
              "            </table>\n",
              "        </td>\n",
              "        <td>\n",
              "        <svg width=\"198\" height=\"145\" style=\"stroke:rgb(0,0,0);stroke-width:1\" >\n",
              "\n",
              "  <!-- Horizontal lines -->\n",
              "  <line x1=\"10\" y1=\"0\" x2=\"28\" y2=\"18\" style=\"stroke-width:2\" />\n",
              "  <line x1=\"10\" y1=\"8\" x2=\"28\" y2=\"27\" />\n",
              "  <line x1=\"10\" y1=\"17\" x2=\"28\" y2=\"36\" />\n",
              "  <line x1=\"10\" y1=\"26\" x2=\"28\" y2=\"45\" />\n",
              "  <line x1=\"10\" y1=\"35\" x2=\"28\" y2=\"54\" />\n",
              "  <line x1=\"10\" y1=\"44\" x2=\"28\" y2=\"63\" />\n",
              "  <line x1=\"10\" y1=\"53\" x2=\"28\" y2=\"72\" />\n",
              "  <line x1=\"10\" y1=\"62\" x2=\"28\" y2=\"81\" />\n",
              "  <line x1=\"10\" y1=\"71\" x2=\"28\" y2=\"90\" />\n",
              "  <line x1=\"10\" y1=\"76\" x2=\"28\" y2=\"95\" style=\"stroke-width:2\" />\n",
              "\n",
              "  <!-- Vertical lines -->\n",
              "  <line x1=\"10\" y1=\"0\" x2=\"10\" y2=\"76\" style=\"stroke-width:2\" />\n",
              "  <line x1=\"28\" y1=\"18\" x2=\"28\" y2=\"95\" style=\"stroke-width:2\" />\n",
              "\n",
              "  <!-- Colored Rectangle -->\n",
              "  <polygon points=\"10.0,0.0 28.939947763724543,18.939947763724543 28.939947763724543,95.09207304336661 10.0,76.15212527964206\" style=\"fill:#ECB172A0;stroke-width:0\"/>\n",
              "\n",
              "  <!-- Horizontal lines -->\n",
              "  <line x1=\"10\" y1=\"0\" x2=\"130\" y2=\"0\" style=\"stroke-width:2\" />\n",
              "  <line x1=\"28\" y1=\"18\" x2=\"148\" y2=\"18\" style=\"stroke-width:2\" />\n",
              "\n",
              "  <!-- Vertical lines -->\n",
              "  <line x1=\"10\" y1=\"0\" x2=\"28\" y2=\"18\" style=\"stroke-width:2\" />\n",
              "  <line x1=\"18\" y1=\"0\" x2=\"37\" y2=\"18\" />\n",
              "  <line x1=\"27\" y1=\"0\" x2=\"46\" y2=\"18\" />\n",
              "  <line x1=\"36\" y1=\"0\" x2=\"55\" y2=\"18\" />\n",
              "  <line x1=\"45\" y1=\"0\" x2=\"64\" y2=\"18\" />\n",
              "  <line x1=\"54\" y1=\"0\" x2=\"73\" y2=\"18\" />\n",
              "  <line x1=\"63\" y1=\"0\" x2=\"82\" y2=\"18\" />\n",
              "  <line x1=\"72\" y1=\"0\" x2=\"91\" y2=\"18\" />\n",
              "  <line x1=\"81\" y1=\"0\" x2=\"100\" y2=\"18\" />\n",
              "  <line x1=\"90\" y1=\"0\" x2=\"109\" y2=\"18\" />\n",
              "  <line x1=\"99\" y1=\"0\" x2=\"118\" y2=\"18\" />\n",
              "  <line x1=\"108\" y1=\"0\" x2=\"127\" y2=\"18\" />\n",
              "  <line x1=\"117\" y1=\"0\" x2=\"136\" y2=\"18\" />\n",
              "  <line x1=\"126\" y1=\"0\" x2=\"145\" y2=\"18\" />\n",
              "  <line x1=\"130\" y1=\"0\" x2=\"148\" y2=\"18\" style=\"stroke-width:2\" />\n",
              "\n",
              "  <!-- Colored Rectangle -->\n",
              "  <polygon points=\"10.0,0.0 130.0,0.0 148.93994776372455,18.939947763724543 28.939947763724543,18.939947763724543\" style=\"fill:#ECB172A0;stroke-width:0\"/>\n",
              "\n",
              "  <!-- Horizontal lines -->\n",
              "  <line x1=\"28\" y1=\"18\" x2=\"148\" y2=\"18\" style=\"stroke-width:2\" />\n",
              "  <line x1=\"28\" y1=\"27\" x2=\"148\" y2=\"27\" />\n",
              "  <line x1=\"28\" y1=\"36\" x2=\"148\" y2=\"36\" />\n",
              "  <line x1=\"28\" y1=\"45\" x2=\"148\" y2=\"45\" />\n",
              "  <line x1=\"28\" y1=\"54\" x2=\"148\" y2=\"54\" />\n",
              "  <line x1=\"28\" y1=\"63\" x2=\"148\" y2=\"63\" />\n",
              "  <line x1=\"28\" y1=\"72\" x2=\"148\" y2=\"72\" />\n",
              "  <line x1=\"28\" y1=\"81\" x2=\"148\" y2=\"81\" />\n",
              "  <line x1=\"28\" y1=\"90\" x2=\"148\" y2=\"90\" />\n",
              "  <line x1=\"28\" y1=\"95\" x2=\"148\" y2=\"95\" style=\"stroke-width:2\" />\n",
              "\n",
              "  <!-- Vertical lines -->\n",
              "  <line x1=\"28\" y1=\"18\" x2=\"28\" y2=\"95\" style=\"stroke-width:2\" />\n",
              "  <line x1=\"37\" y1=\"18\" x2=\"37\" y2=\"95\" />\n",
              "  <line x1=\"46\" y1=\"18\" x2=\"46\" y2=\"95\" />\n",
              "  <line x1=\"55\" y1=\"18\" x2=\"55\" y2=\"95\" />\n",
              "  <line x1=\"64\" y1=\"18\" x2=\"64\" y2=\"95\" />\n",
              "  <line x1=\"73\" y1=\"18\" x2=\"73\" y2=\"95\" />\n",
              "  <line x1=\"82\" y1=\"18\" x2=\"82\" y2=\"95\" />\n",
              "  <line x1=\"91\" y1=\"18\" x2=\"91\" y2=\"95\" />\n",
              "  <line x1=\"100\" y1=\"18\" x2=\"100\" y2=\"95\" />\n",
              "  <line x1=\"109\" y1=\"18\" x2=\"109\" y2=\"95\" />\n",
              "  <line x1=\"118\" y1=\"18\" x2=\"118\" y2=\"95\" />\n",
              "  <line x1=\"127\" y1=\"18\" x2=\"127\" y2=\"95\" />\n",
              "  <line x1=\"136\" y1=\"18\" x2=\"136\" y2=\"95\" />\n",
              "  <line x1=\"145\" y1=\"18\" x2=\"145\" y2=\"95\" />\n",
              "  <line x1=\"148\" y1=\"18\" x2=\"148\" y2=\"95\" style=\"stroke-width:2\" />\n",
              "\n",
              "  <!-- Colored Rectangle -->\n",
              "  <polygon points=\"28.939947763724543,18.939947763724543 148.93994776372455,18.939947763724543 148.93994776372455,95.09207304336661 28.939947763724543,95.09207304336661\" style=\"fill:#ECB172A0;stroke-width:0\"/>\n",
              "\n",
              "  <!-- Text -->\n",
              "  <text x=\"88.939948\" y=\"115.092073\" font-size=\"1.0rem\" font-weight=\"100\" text-anchor=\"middle\" >1341</text>\n",
              "  <text x=\"168.939948\" y=\"57.016010\" font-size=\"1.0rem\" font-weight=\"100\" text-anchor=\"middle\" transform=\"rotate(-90,168.939948,57.016010)\">851</text>\n",
              "  <text x=\"9.469974\" y=\"105.622099\" font-size=\"1.0rem\" font-weight=\"100\" text-anchor=\"middle\" transform=\"rotate(45,9.469974,105.622099)\">46</text>\n",
              "</svg>\n",
              "        </td>\n",
              "    </tr>\n",
              "</table></div></div></li><li class='xr-section-item'><input id='section-f6ddebf7-df16-4276-8c6b-82bb50b69282' class='xr-section-summary-in' type='checkbox'  checked><label for='section-f6ddebf7-df16-4276-8c6b-82bb50b69282' class='xr-section-summary' >Coordinates: <span>(3)</span></label><div class='xr-section-inline-details'></div><div class='xr-section-details'><ul class='xr-var-list'><li class='xr-var-item'><div class='xr-var-name'><span class='xr-has-index'>time</span></div><div class='xr-var-dims'>(time)</div><div class='xr-var-dtype'>datetime64[ns]</div><div class='xr-var-preview xr-preview'>2020-01-01 ... 2021-12-19</div><input id='attrs-96bb288e-7493-4324-be19-e2e2be5ce892' class='xr-var-attrs-in' type='checkbox' disabled><label for='attrs-96bb288e-7493-4324-be19-e2e2be5ce892' title='Show/Hide attributes'><svg class='icon xr-icon-file-text2'><use xlink:href='#icon-file-text2'></use></svg></label><input id='data-33fddfee-04d6-43bd-a8ce-489b0fc6da80' class='xr-var-data-in' type='checkbox'><label for='data-33fddfee-04d6-43bd-a8ce-489b0fc6da80' title='Show/Hide data repr'><svg class='icon xr-icon-database'><use xlink:href='#icon-database'></use></svg></label><div class='xr-var-attrs'><dl class='xr-attrs'></dl></div><div class='xr-var-data'><pre>array([&#x27;2020-01-01T00:00:00.000000000&#x27;, &#x27;2020-01-17T00:00:00.000000000&#x27;,\n",
              "       &#x27;2020-02-02T00:00:00.000000000&#x27;, &#x27;2020-02-18T00:00:00.000000000&#x27;,\n",
              "       &#x27;2020-03-05T00:00:00.000000000&#x27;, &#x27;2020-03-21T00:00:00.000000000&#x27;,\n",
              "       &#x27;2020-04-06T00:00:00.000000000&#x27;, &#x27;2020-04-22T00:00:00.000000000&#x27;,\n",
              "       &#x27;2020-05-08T00:00:00.000000000&#x27;, &#x27;2020-05-24T00:00:00.000000000&#x27;,\n",
              "       &#x27;2020-06-09T00:00:00.000000000&#x27;, &#x27;2020-06-25T00:00:00.000000000&#x27;,\n",
              "       &#x27;2020-07-11T00:00:00.000000000&#x27;, &#x27;2020-07-27T00:00:00.000000000&#x27;,\n",
              "       &#x27;2020-08-12T00:00:00.000000000&#x27;, &#x27;2020-08-28T00:00:00.000000000&#x27;,\n",
              "       &#x27;2020-09-13T00:00:00.000000000&#x27;, &#x27;2020-09-29T00:00:00.000000000&#x27;,\n",
              "       &#x27;2020-10-15T00:00:00.000000000&#x27;, &#x27;2020-10-31T00:00:00.000000000&#x27;,\n",
              "       &#x27;2020-11-16T00:00:00.000000000&#x27;, &#x27;2020-12-02T00:00:00.000000000&#x27;,\n",
              "       &#x27;2020-12-18T00:00:00.000000000&#x27;, &#x27;2021-01-01T00:00:00.000000000&#x27;,\n",
              "       &#x27;2021-01-17T00:00:00.000000000&#x27;, &#x27;2021-02-02T00:00:00.000000000&#x27;,\n",
              "       &#x27;2021-02-18T00:00:00.000000000&#x27;, &#x27;2021-03-06T00:00:00.000000000&#x27;,\n",
              "       &#x27;2021-03-22T00:00:00.000000000&#x27;, &#x27;2021-04-07T00:00:00.000000000&#x27;,\n",
              "       &#x27;2021-04-23T00:00:00.000000000&#x27;, &#x27;2021-05-09T00:00:00.000000000&#x27;,\n",
              "       &#x27;2021-05-25T00:00:00.000000000&#x27;, &#x27;2021-06-10T00:00:00.000000000&#x27;,\n",
              "       &#x27;2021-06-26T00:00:00.000000000&#x27;, &#x27;2021-07-12T00:00:00.000000000&#x27;,\n",
              "       &#x27;2021-07-28T00:00:00.000000000&#x27;, &#x27;2021-08-13T00:00:00.000000000&#x27;,\n",
              "       &#x27;2021-08-29T00:00:00.000000000&#x27;, &#x27;2021-09-14T00:00:00.000000000&#x27;,\n",
              "       &#x27;2021-09-30T00:00:00.000000000&#x27;, &#x27;2021-10-16T00:00:00.000000000&#x27;,\n",
              "       &#x27;2021-11-01T00:00:00.000000000&#x27;, &#x27;2021-11-17T00:00:00.000000000&#x27;,\n",
              "       &#x27;2021-12-03T00:00:00.000000000&#x27;, &#x27;2021-12-19T00:00:00.000000000&#x27;],\n",
              "      dtype=&#x27;datetime64[ns]&#x27;)</pre></div></li><li class='xr-var-item'><div class='xr-var-name'><span class='xr-has-index'>X</span></div><div class='xr-var-dims'>(X)</div><div class='xr-var-dtype'>float32</div><div class='xr-var-preview xr-preview'>77.03 77.03 77.03 ... 79.0 79.0</div><input id='attrs-806e76c2-1f71-403b-aa15-d322089be208' class='xr-var-attrs-in' type='checkbox' disabled><label for='attrs-806e76c2-1f71-403b-aa15-d322089be208' title='Show/Hide attributes'><svg class='icon xr-icon-file-text2'><use xlink:href='#icon-file-text2'></use></svg></label><input id='data-26769625-796d-48fa-8796-714b3dc14232' class='xr-var-data-in' type='checkbox'><label for='data-26769625-796d-48fa-8796-714b3dc14232' title='Show/Hide data repr'><svg class='icon xr-icon-database'><use xlink:href='#icon-database'></use></svg></label><div class='xr-var-attrs'><dl class='xr-attrs'></dl></div><div class='xr-var-data'><pre>array([77.02657 , 77.0289  , 77.03122 , ..., 78.995834, 78.99815 , 79.00047 ],\n",
              "      dtype=float32)</pre></div></li><li class='xr-var-item'><div class='xr-var-name'><span class='xr-has-index'>Y</span></div><div class='xr-var-dims'>(Y)</div><div class='xr-var-dtype'>float32</div><div class='xr-var-preview xr-preview'>15.03 15.02 15.02 ... 12.0 12.0</div><input id='attrs-70616b6b-ca87-4710-9693-d3f6e7f2efb9' class='xr-var-attrs-in' type='checkbox' disabled><label for='attrs-70616b6b-ca87-4710-9693-d3f6e7f2efb9' title='Show/Hide attributes'><svg class='icon xr-icon-file-text2'><use xlink:href='#icon-file-text2'></use></svg></label><input id='data-ead2f72e-7bac-4efe-82a1-f2ee4fd3ad03' class='xr-var-data-in' type='checkbox'><label for='data-ead2f72e-7bac-4efe-82a1-f2ee4fd3ad03' title='Show/Hide data repr'><svg class='icon xr-icon-database'><use xlink:href='#icon-database'></use></svg></label><div class='xr-var-attrs'><dl class='xr-attrs'></dl></div><div class='xr-var-data'><pre>array([15.027213, 15.024955, 15.022696, ..., 12.004432, 12.002172, 11.999912],\n",
              "      dtype=float32)</pre></div></li></ul></div></li><li class='xr-section-item'><input id='section-1f8612ac-766f-4917-99b2-b772dd5d7139' class='xr-section-summary-in' type='checkbox'  ><label for='section-1f8612ac-766f-4917-99b2-b772dd5d7139' class='xr-section-summary' >Indexes: <span>(3)</span></label><div class='xr-section-inline-details'></div><div class='xr-section-details'><ul class='xr-var-list'><li class='xr-var-item'><div class='xr-index-name'><div>time</div></div><div class='xr-index-preview'>PandasIndex</div><div></div><input id='index-d29e8ec8-05d1-4494-bb3a-6043318b0ed2' class='xr-index-data-in' type='checkbox'/><label for='index-d29e8ec8-05d1-4494-bb3a-6043318b0ed2' title='Show/Hide index repr'><svg class='icon xr-icon-database'><use xlink:href='#icon-database'></use></svg></label><div class='xr-index-data'><pre>PandasIndex(DatetimeIndex([&#x27;2020-01-01&#x27;, &#x27;2020-01-17&#x27;, &#x27;2020-02-02&#x27;, &#x27;2020-02-18&#x27;,\n",
              "               &#x27;2020-03-05&#x27;, &#x27;2020-03-21&#x27;, &#x27;2020-04-06&#x27;, &#x27;2020-04-22&#x27;,\n",
              "               &#x27;2020-05-08&#x27;, &#x27;2020-05-24&#x27;, &#x27;2020-06-09&#x27;, &#x27;2020-06-25&#x27;,\n",
              "               &#x27;2020-07-11&#x27;, &#x27;2020-07-27&#x27;, &#x27;2020-08-12&#x27;, &#x27;2020-08-28&#x27;,\n",
              "               &#x27;2020-09-13&#x27;, &#x27;2020-09-29&#x27;, &#x27;2020-10-15&#x27;, &#x27;2020-10-31&#x27;,\n",
              "               &#x27;2020-11-16&#x27;, &#x27;2020-12-02&#x27;, &#x27;2020-12-18&#x27;, &#x27;2021-01-01&#x27;,\n",
              "               &#x27;2021-01-17&#x27;, &#x27;2021-02-02&#x27;, &#x27;2021-02-18&#x27;, &#x27;2021-03-06&#x27;,\n",
              "               &#x27;2021-03-22&#x27;, &#x27;2021-04-07&#x27;, &#x27;2021-04-23&#x27;, &#x27;2021-05-09&#x27;,\n",
              "               &#x27;2021-05-25&#x27;, &#x27;2021-06-10&#x27;, &#x27;2021-06-26&#x27;, &#x27;2021-07-12&#x27;,\n",
              "               &#x27;2021-07-28&#x27;, &#x27;2021-08-13&#x27;, &#x27;2021-08-29&#x27;, &#x27;2021-09-14&#x27;,\n",
              "               &#x27;2021-09-30&#x27;, &#x27;2021-10-16&#x27;, &#x27;2021-11-01&#x27;, &#x27;2021-11-17&#x27;,\n",
              "               &#x27;2021-12-03&#x27;, &#x27;2021-12-19&#x27;],\n",
              "              dtype=&#x27;datetime64[ns]&#x27;, name=&#x27;time&#x27;, freq=None))</pre></div></li><li class='xr-var-item'><div class='xr-index-name'><div>X</div></div><div class='xr-index-preview'>PandasIndex</div><div></div><input id='index-fbd5a171-3505-412e-a7b9-7fab7b5e5b43' class='xr-index-data-in' type='checkbox'/><label for='index-fbd5a171-3505-412e-a7b9-7fab7b5e5b43' title='Show/Hide index repr'><svg class='icon xr-icon-database'><use xlink:href='#icon-database'></use></svg></label><div class='xr-index-data'><pre>PandasIndex(Float64Index([77.02657318115234, 77.02890014648438, 77.03121948242188,\n",
              "               77.0335464477539, 77.03587341308594, 77.03819274902344,\n",
              "              77.04051971435547,  77.0428466796875,   77.045166015625,\n",
              "              77.04749298095703,\n",
              "              ...\n",
              "              78.97959899902344, 78.98191833496094, 78.98423767089844,\n",
              "              78.98655700683594, 78.98887634277344, 78.99119567871094,\n",
              "              78.99351501464844, 78.99583435058594, 78.99815368652344,\n",
              "              79.00047302246094],\n",
              "             dtype=&#x27;float64&#x27;, name=&#x27;X&#x27;, length=851))</pre></div></li><li class='xr-var-item'><div class='xr-index-name'><div>Y</div></div><div class='xr-index-preview'>PandasIndex</div><div></div><input id='index-a400cec8-23b8-4711-a9d1-11a5552e1bc6' class='xr-index-data-in' type='checkbox'/><label for='index-a400cec8-23b8-4711-a9d1-11a5552e1bc6' title='Show/Hide index repr'><svg class='icon xr-icon-database'><use xlink:href='#icon-database'></use></svg></label><div class='xr-index-data'><pre>PandasIndex(Float64Index([15.027213096618652, 15.024954795837402, 15.022695541381836,\n",
              "               15.02043628692627,  15.01817798614502, 15.015918731689453,\n",
              "              15.013660430908203, 15.011401176452637,  15.00914192199707,\n",
              "               15.00688362121582,\n",
              "              ...\n",
              "              12.020247459411621, 12.017988204956055, 12.015728950500488,\n",
              "              12.013469696044922, 12.011209487915039, 12.008950233459473,\n",
              "              12.006690979003906,  12.00443172454834, 12.002172470092773,\n",
              "               11.99991226196289],\n",
              "             dtype=&#x27;float64&#x27;, name=&#x27;Y&#x27;, length=1341))</pre></div></li></ul></div></li><li class='xr-section-item'><input id='section-3e4c0aa3-501d-4a7f-87cc-2006db4a13bd' class='xr-section-summary-in' type='checkbox'  checked><label for='section-3e4c0aa3-501d-4a7f-87cc-2006db4a13bd' class='xr-section-summary' >Attributes: <span>(5)</span></label><div class='xr-section-inline-details'></div><div class='xr-section-details'><dl class='xr-attrs'><dt><span>id :</span></dt><dd>NDVI</dd><dt><span>data_type :</span></dt><dd>{&#x27;type&#x27;: &#x27;PixelType&#x27;, &#x27;precision&#x27;: &#x27;double&#x27;, &#x27;min&#x27;: -3.2768, &#x27;max&#x27;: 3.2767}</dd><dt><span>dimensions :</span></dt><dd>[172800, 67200]</dd><dt><span>crs :</span></dt><dd>SR-ORG:6974</dd><dt><span>crs_transform :</span></dt><dd>[231.65635826395825, 0, -20015109.354, 0, -231.65635826395834, 8895604.157336]</dd></dl></div></li></ul></div></div>"
            ]
          },
          "metadata": {},
          "execution_count": 34
        }
      ]
    },
    {
      "cell_type": "markdown",
      "source": [
        "## Interpolate and Smooth the time-series\n",
        "\n",
        "We use XArray's excellent time-series processing functionality to fill the cloud-masked pixels with linearly interpolated values from temporal neighbors. We also apply a moving-window smoothing to remove noise."
      ],
      "metadata": {
        "id": "h1BNPkpox4GW"
      }
    },
    {
      "cell_type": "code",
      "source": [
        "time_series_interpolated = original_time_series.interpolate_na('time', use_coordinate=False)\n",
        "time_series_smooth = time_series_interpolated.rolling(time=3, center=True).mean()\n",
        "time_series_smooth"
      ],
      "metadata": {
        "id": "BvsoysnGxpK6"
      },
      "execution_count": null,
      "outputs": []
    },
    {
      "cell_type": "markdown",
      "source": [
        "## Plot and Extract the Time-Series at a Single Location"
      ],
      "metadata": {
        "id": "VXziNzdSxx14"
      }
    },
    {
      "cell_type": "code",
      "source": [
        "original_ts = original_time_series.interp(Y=13.16, X=77.35)\n",
        "smooth_ts = time_series_smooth.interp(Y=13.16, X=77.35)"
      ],
      "metadata": {
        "id": "-5J0g36ZljdQ"
      },
      "execution_count": null,
      "outputs": []
    },
    {
      "cell_type": "code",
      "source": [
        "fig, ax = plt.subplots(1, 1)\n",
        "fig.set_size_inches(15, 7)\n",
        "original_ts.plot.line(\n",
        "    ax=ax, x='time',\n",
        "    marker='o', color='#66c2a4', linestyle='--', linewidth=1, markersize=4)\n",
        "plt.show()"
      ],
      "metadata": {
        "colab": {
          "base_uri": "https://localhost:8080/",
          "height": 467
        },
        "id": "FeR6FMTx4ZT0",
        "outputId": "9bdf3f1e-5416-4d73-a16e-7cc923f95d32"
      },
      "execution_count": 25,
      "outputs": [
        {
          "output_type": "display_data",
          "data": {
            "text/plain": [
              "<Figure size 1500x700 with 1 Axes>"
            ],
            "image/png": "[encoded data removed]"
          },
          "metadata": {}
        }
      ]
    },
    {
      "cell_type": "code",
      "source": [
        "fig, ax = plt.subplots(1, 1)\n",
        "fig.set_size_inches(15, 7)\n",
        "original_ts.plot.line(\n",
        "    ax=ax, x='time',\n",
        "    marker='^', color='#66c2a4', linestyle='--', linewidth=1, markersize=2)\n",
        "smooth_ts.plot.line(\n",
        "    ax=ax, x='time',\n",
        "    marker='o', color='#238b45', linestyle='-', linewidth=1, markersize=4)\n",
        "plt.show()"
      ],
      "metadata": {
        "colab": {
          "base_uri": "https://localhost:8080/",
          "height": 467
        },
        "id": "aim3uBoq66C0",
        "outputId": "e7bf42d5-d93d-4afd-c0ce-7715271e67bd"
      },
      "execution_count": 26,
      "outputs": [
        {
          "output_type": "display_data",
          "data": {
            "text/plain": [
              "<Figure size 1500x700 with 1 Axes>"
            ],
            "image/png": "[encoded data removed]"
          },
          "metadata": {}
        }
      ]
    },
    {
      "cell_type": "code",
      "source": [
        "df = smooth_ts.to_pandas()\n",
        "df"
      ],
      "metadata": {
        "id": "eFLOQqpS4115"
      },
      "execution_count": null,
      "outputs": []
    },
    {
      "cell_type": "code",
      "source": [
        "output_filename = 'smoothed_time_series.csv'\n",
        "output_filepath = os.path.join(output_folder, output_filename)\n",
        "df.reset_index().to_csv(output_filepath, index=False)"
      ],
      "metadata": {
        "id": "21tHUORk5HPW"
      },
      "execution_count": null,
      "outputs": []
    },
    {
      "cell_type": "markdown",
      "source": [
        "## Download Smoothed Time-Series Images"
      ],
      "metadata": {
        "id": "tytabV-N5f-O"
      }
    },
    {
      "cell_type": "markdown",
      "source": [
        "Save the original time-series images using `rioxarray` as GeoTIFF files."
      ],
      "metadata": {
        "id": "ehxlKsUY780n"
      }
    },
    {
      "cell_type": "code",
      "source": [
        "for time in original_time_series.time.values:\n",
        "  image = original_time_series.sel(time=time)\n",
        "  # transform the image to suit rioxarray format\n",
        "  image = image \\\n",
        "    .rename({'Y': 'y', 'X': 'x'}) \\\n",
        "    .transpose('y', 'x') \\\n",
        "    .rio.write_crs('EPSG:4326')\n",
        "\n",
        "  date = np.datetime_as_string(time, unit='D')\n",
        "  output_file = f'original_{date}.tif'\n",
        "  output_path = os.path.join(output_folder, output_file)\n",
        "  image.rio.to_raster(output_path, driver='COG')"
      ],
      "metadata": {
        "id": "Fik-Cya_5pWO"
      },
      "execution_count": null,
      "outputs": []
    },
    {
      "cell_type": "markdown",
      "source": [
        "Save the smoothed time-series images."
      ],
      "metadata": {
        "id": "R8NrAucw8Akr"
      }
    },
    {
      "cell_type": "code",
      "source": [
        "for time in time_series_smooth.time.values:\n",
        "  image = time_series_smooth.sel(time=time)\n",
        "  # transform the image to suit rioxarray format\n",
        "  image = image \\\n",
        "    .rename({'Y': 'y', 'X': 'x'}) \\\n",
        "    .transpose('y', 'x') \\\n",
        "    .rio.write_crs('EPSG:4326')\n",
        "\n",
        "  date = np.datetime_as_string(time, unit='D')\n",
        "  output_file = f'smoothed_{date}.tif'\n",
        "  output_path = os.path.join(output_folder, output_file)\n",
        "  image.rio.to_raster(output_path, driver='COG')\n"
      ],
      "metadata": {
        "id": "32072E2AyCfU"
      },
      "execution_count": null,
      "outputs": []
    }
  ]
}