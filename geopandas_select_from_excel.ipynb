{
  "nbformat": 4,
  "nbformat_minor": 0,
  "metadata": {
    "colab": {
      "provenance": [],
      "authorship_tag": "ABX9TyOW7DtYiNW8a0soiJj7yc8P"
    },
    "kernelspec": {
      "name": "python3",
      "display_name": "Python 3"
    },
    "language_info": {
      "name": "python"
    }
  },
  "cells": [
    {
      "cell_type": "markdown",
      "source": [
        "This tutorial has been moved to a new location. Visit https://www.geopythontutorials.com/notebooks/geopandas_extract_from_excel.html"
      ],
      "metadata": {
        "id": "T6js1XC6-Rl-"
      }
    }
  ]
}