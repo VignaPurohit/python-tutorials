{
  "cells": [
    {
      "cell_type": "markdown",
      "metadata": {
        "id": "-8XeAS9o38_b"
      },
      "source": [
        "# Performing Table Joins"
      ]
    },
    {
      "cell_type": "markdown",
      "metadata": {
        "id": "VIQ0wQST38_e"
      },
      "source": [
        "## Overview\n",
        "\n",
        "This tutorial shows how to use GeoPandas to do a table join. In addition, we will be covering advanced data cleaning techniques to be able to merge datasets from different sources.\n",
        "\n",
        "We will be working with 2 data layers for the Sri Lanka. Given the shapefile of Admin4 regions and a CSV file containing division-wise population statistics - we will learn how to merge them to display these indicators on a map.\n",
        "\n",
        "Input Layers:\n",
        "* `lka_admbnda_adm4_slsd_20220816.shp`: A shapefile of all Grama Niladhari (GN)Divisions (Admin Level 4) of Sri Lanka.\n",
        "* `GN_Division_Age_Group_of_Population.csv`: Age-wise population for all GN Divisions of Sri Lanka.\n",
        "\n",
        "Output:\n",
        "* `admin4_pop.shp`: A shapefile containing age-wise population for GN Divisions.\n",
        "\n",
        "Data Credit: \n",
        "* Sri Lanka Population Statistics: Department of Census and Statistics - Sri Lanka.  Downloaded from DCS Map Portal](http://map.statistics.gov.lk/).\n",
        "* Sri Lanka - Subnational Administrative Boundaries: Sri Lanka administrative levels 0-4 shapefiles and gazetteer. Downloaded from [HDX portal](https://data.humdata.org/dataset/cod-ab-lka)."
      ]
    },
    {
      "cell_type": "markdown",
      "metadata": {
        "id": "Hf7Hqykf38_f"
      },
      "source": [
        "## Setup and Data Download\n",
        "\n",
        "The following blocks of code will install the required packages and download the datasets to your Colab environment."
      ]
    },
    {
      "cell_type": "code",
      "execution_count": 1,
      "metadata": {
        "id": "ufdT-ara38_f",
        "colab": {
          "base_uri": "https://localhost:8080/"
        },
        "outputId": "5b3db83e-483e-46a6-d4ca-172fa00c30e2"
      },
      "outputs": [
        {
          "output_type": "stream",
          "name": "stdout",
          "text": [
            "The following package was automatically installed and is no longer required:\n",
            "  libnvidia-common-460\n",
            "Use 'apt autoremove' to remove it.\n",
            "The following additional packages will be installed:\n",
            "  libspatialindex-c4v5 libspatialindex4v5\n",
            "The following NEW packages will be installed:\n",
            "  libspatialindex-c4v5 libspatialindex-dev libspatialindex4v5\n",
            "0 upgraded, 3 newly installed, 0 to remove and 20 not upgraded.\n",
            "Need to get 555 kB of archives.\n",
            "After this operation, 3,308 kB of additional disk space will be used.\n",
            "Selecting previously unselected package libspatialindex4v5:amd64.\n",
            "(Reading database ... 124016 files and directories currently installed.)\n",
            "Preparing to unpack .../libspatialindex4v5_1.8.5-5_amd64.deb ...\n",
            "Unpacking libspatialindex4v5:amd64 (1.8.5-5) ...\n",
            "Selecting previously unselected package libspatialindex-c4v5:amd64.\n",
            "Preparing to unpack .../libspatialindex-c4v5_1.8.5-5_amd64.deb ...\n",
            "Unpacking libspatialindex-c4v5:amd64 (1.8.5-5) ...\n",
            "Selecting previously unselected package libspatialindex-dev:amd64.\n",
            "Preparing to unpack .../libspatialindex-dev_1.8.5-5_amd64.deb ...\n",
            "Unpacking libspatialindex-dev:amd64 (1.8.5-5) ...\n",
            "Setting up libspatialindex4v5:amd64 (1.8.5-5) ...\n",
            "Setting up libspatialindex-c4v5:amd64 (1.8.5-5) ...\n",
            "Setting up libspatialindex-dev:amd64 (1.8.5-5) ...\n",
            "Processing triggers for libc-bin (2.27-3ubuntu1.6) ...\n",
            "\u001b[K     |████████████████████████████████| 16.6 MB 6.9 MB/s \n",
            "\u001b[K     |████████████████████████████████| 7.8 MB 54.1 MB/s \n",
            "\u001b[K     |████████████████████████████████| 1.0 MB 72.1 MB/s \n",
            "\u001b[K     |████████████████████████████████| 1.1 MB 14.9 MB/s \n",
            "\u001b[?25h"
          ]
        }
      ],
      "source": [
        "%%capture\n",
        "try:\n",
        "    import geopandas\n",
        "except ModuleNotFoundError:\n",
        "    if 'google.colab' in str(get_ipython()):\n",
        "        !apt install libspatialindex-dev -qq\n",
        "        !pip install fiona shapely pyproj rtree --quiet\n",
        "        !pip install geopandas --quiet\n",
        "    else:\n",
        "        print('geopandas not found, please install via conda in your environment')"
      ]
    },
    {
      "cell_type": "code",
      "execution_count": 2,
      "metadata": {
        "id": "tG4TWO0h38_h"
      },
      "outputs": [],
      "source": [
        "import os\n",
        "import pandas as pd\n",
        "import geopandas as gpd\n",
        "import matplotlib.pyplot as plt"
      ]
    },
    {
      "cell_type": "code",
      "execution_count": 3,
      "metadata": {
        "id": "dkQlqw_738_h"
      },
      "outputs": [],
      "source": [
        "data_folder = 'data'\n",
        "output_folder = 'output'\n",
        "\n",
        "if not os.path.exists(data_folder):\n",
        "    os.mkdir(data_folder)\n",
        "if not os.path.exists(output_folder):\n",
        "    os.mkdir(output_folder)"
      ]
    },
    {
      "cell_type": "code",
      "execution_count": 5,
      "metadata": {
        "id": "0ZIhNpJm38_i",
        "colab": {
          "base_uri": "https://localhost:8080/"
        },
        "outputId": "bc1fc66c-7231-49be-8858-44a130fe6957"
      },
      "outputs": [
        {
          "output_type": "stream",
          "name": "stdout",
          "text": [
            "Downloaded data/GN_Division_Age_Group_of_Population.csv\n"
          ]
        }
      ],
      "source": [
        "def download(url):\n",
        "    filename = os.path.join(data_folder, os.path.basename(url))\n",
        "    if not os.path.exists(filename):\n",
        "        from urllib.request import urlretrieve\n",
        "        local, _ = urlretrieve(url, filename)\n",
        "        print('Downloaded ' + local)\n",
        "\n",
        "data_url = 'https://storage.googleapis.com/spatialthoughts-public-data/srilanka/'\n",
        "\n",
        "shapefile = 'lka_admbnda_adm4_slsd_20220816'\n",
        "exts = ['.shp', '.shx', '.dbf', '.prj']\n",
        "csv_file = 'GN_Division_Age_Group_of_Population.csv'\n",
        "\n",
        "for ext in exts:\n",
        "  download(data_url + shapefile + ext)\n",
        "\n",
        "download(data_url + csv_file)"
      ]
    },
    {
      "cell_type": "markdown",
      "metadata": {
        "id": "7xBUlPcw38_i"
      },
      "source": [
        "## Procedure"
      ]
    },
    {
      "cell_type": "markdown",
      "source": [
        "### Pre-Process Data Table"
      ],
      "metadata": {
        "id": "bBqur7Fx8Bd8"
      }
    },
    {
      "cell_type": "markdown",
      "source": [],
      "metadata": {
        "id": "jq71DpYz8L18"
      }
    },
    {
      "cell_type": "markdown",
      "source": [
        "### Pre-Process Shapefile"
      ],
      "metadata": {
        "id": "bJaSzzSl8MDu"
      }
    }
  ],
  "metadata": {
    "kernelspec": {
      "display_name": "Python 3 (ipykernel)",
      "language": "python",
      "name": "python3"
    },
    "language_info": {
      "codemirror_mode": {
        "name": "ipython",
        "version": 3
      },
      "file_extension": ".py",
      "mimetype": "text/x-python",
      "name": "python",
      "nbconvert_exporter": "python",
      "pygments_lexer": "ipython3",
      "version": "3.10.5"
    },
    "colab": {
      "provenance": []
    }
  },
  "nbformat": 4,
  "nbformat_minor": 0
}