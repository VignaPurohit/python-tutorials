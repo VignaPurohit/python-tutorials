{
  "cells": [
    {
      "cell_type": "markdown",
      "id": "fcd6d685-f91c-4c69-af88-be6892167670",
      "metadata": {
        "id": "fcd6d685-f91c-4c69-af88-be6892167670"
      },
      "source": [
        "# Reading and Processing Data from STAC\n",
        "\n",
        "We will query a STAC catalog for Sentinel-2 imagery and load a single image using XArray. We will also apply some data processing to clip the image and calculate spectral indices."
      ]
    },
    {
      "cell_type": "markdown",
      "id": "6c3d59b3-acb9-464e-a0b5-5b4a705a2351",
      "metadata": {
        "id": "6c3d59b3-acb9-464e-a0b5-5b4a705a2351"
      },
      "source": [
        "## Setup and Data Download\n",
        "\n",
        "The following blocks of code will install the required packages and download the datasets to your Colab environment."
      ]
    },
    {
      "cell_type": "code",
      "execution_count": null,
      "id": "d040fad2-4e94-4804-a73f-5e0c9c116c0c",
      "metadata": {
        "id": "d040fad2-4e94-4804-a73f-5e0c9c116c0c"
      },
      "outputs": [],
      "source": [
        "%%capture\n",
        "if 'google.colab' in str(get_ipython()):\n",
        "    !pip install pystac-client\n",
        "    !apt install libspatialindex-dev\n",
        "    !pip install fiona shapely pyproj rtree\n",
        "    !pip install geopandas folium stackstac rioxarray mapclassify"
      ]
    },
    {
      "cell_type": "code",
      "execution_count": null,
      "id": "86532af4-8699-4ae6-9fd5-a3a122d0e31f",
      "metadata": {
        "id": "86532af4-8699-4ae6-9fd5-a3a122d0e31f"
      },
      "outputs": [],
      "source": [
        "import json\n",
        "import geopandas as gpd\n",
        "from shapely.geometry import mapping\n",
        "import pandas as pd\n",
        "from pystac_client import Client\n",
        "import os\n",
        "import folium\n",
        "from folium import Figure\n",
        "import stackstac\n",
        "import rioxarray\n",
        "import matplotlib.pyplot as plt\n",
        "import mapclassify"
      ]
    },
    {
      "cell_type": "code",
      "execution_count": null,
      "id": "212dac17-9f83-4ada-a09a-6ff70cdaff5e",
      "metadata": {
        "id": "212dac17-9f83-4ada-a09a-6ff70cdaff5e"
      },
      "outputs": [],
      "source": [
        "data_folder = 'data'\n",
        "output_folder = 'output'\n",
        "\n",
        "if not os.path.exists(data_folder):\n",
        "    os.mkdir(data_folder)\n",
        "if not os.path.exists(output_folder):\n",
        "    os.mkdir(output_folder)"
      ]
    },
    {
      "cell_type": "code",
      "execution_count": null,
      "id": "0d32a323-be99-4a58-ac7a-12e1b183e64f",
      "metadata": {
        "id": "0d32a323-be99-4a58-ac7a-12e1b183e64f"
      },
      "outputs": [],
      "source": [
        "def download(url):\n",
        "    filename = os.path.join(data_folder, os.path.basename(url))\n",
        "    if not os.path.exists(filename):\n",
        "        from urllib.request import urlretrieve\n",
        "        local, _ = urlretrieve(url, filename)\n",
        "        print('Downloaded ' + local)\n",
        "\n",
        "download('https://github.com/spatialthoughts/python-tutorials/raw/main/data/' +\n",
        "         'bangalore.geojson')"
      ]
    },
    {
      "cell_type": "markdown",
      "id": "f1f5a884-8c4b-42bf-86f8-ba4958dbfd96",
      "metadata": {
        "id": "f1f5a884-8c4b-42bf-86f8-ba4958dbfd96"
      },
      "source": [
        "## Procedure"
      ]
    },
    {
      "cell_type": "markdown",
      "id": "d3b17314-1e3a-4283-87c3-daf4bc1f9f6c",
      "metadata": {
        "id": "d3b17314-1e3a-4283-87c3-daf4bc1f9f6c"
      },
      "source": [
        "Let's use Element84 search endpoint to look for items from the sentinel-2-l2a collection on AWS"
      ]
    },
    {
      "cell_type": "code",
      "execution_count": null,
      "id": "c08a868e-be31-409c-9a0a-4b39465d9595",
      "metadata": {
        "id": "c08a868e-be31-409c-9a0a-4b39465d9595"
      },
      "outputs": [],
      "source": [
        "catalog = Client.open('https://earth-search.aws.element84.com/v1')"
      ]
    },
    {
      "cell_type": "code",
      "execution_count": null,
      "id": "fb766125-43b0-45e1-bb29-cbb8430dd33c",
      "metadata": {
        "id": "fb766125-43b0-45e1-bb29-cbb8430dd33c"
      },
      "outputs": [],
      "source": [
        "aoi_file = 'bangalore.geojson'\n",
        "aoi_filepath = os.path.join(data_folder, aoi_file)\n",
        "aoi = gpd.read_file(aoi_filepath)"
      ]
    },
    {
      "cell_type": "code",
      "execution_count": null,
      "id": "5ca39f38-05a1-4314-9c7b-5d9433b4a782",
      "metadata": {
        "id": "5ca39f38-05a1-4314-9c7b-5d9433b4a782"
      },
      "outputs": [],
      "source": [
        "geometry = aoi.unary_union\n",
        "geometry_geojson = json.dumps(mapping(geometry))"
      ]
    },
    {
      "cell_type": "code",
      "execution_count": null,
      "id": "70449855-e2d1-451f-8250-1f0c0a11a637",
      "metadata": {
        "id": "70449855-e2d1-451f-8250-1f0c0a11a637"
      },
      "outputs": [],
      "source": [
        "time_range = \"2023-02-01/2023-02-28\"\n",
        "\n",
        "search = catalog.search(\n",
        "    collections=[\"sentinel-2-l2a\"],\n",
        "    intersects=geometry_geojson,\n",
        "    datetime=time_range,\n",
        "    query={\"eo:cloud_cover\": {\"lt\": 30}},\n",
        ")\n",
        "items = search.item_collection()\n",
        "len(items)"
      ]
    },
    {
      "cell_type": "code",
      "execution_count": null,
      "id": "b46858f1-3010-441f-9045-84bb9e3844f8",
      "metadata": {
        "id": "b46858f1-3010-441f-9045-84bb9e3844f8"
      },
      "outputs": [],
      "source": [
        "items_df = gpd.GeoDataFrame.from_features(items.to_dict(), crs='EPSG:4326')\n",
        "items_df"
      ]
    },
    {
      "cell_type": "code",
      "execution_count": null,
      "id": "be1c6b8c-e884-4a3a-ae96-36a0f0203866",
      "metadata": {
        "id": "be1c6b8c-e884-4a3a-ae96-36a0f0203866"
      },
      "outputs": [],
      "source": [
        "fig = Figure(width=800, height=400)\n",
        "m = folium.Map()\n",
        "bounds = items_df.total_bounds\n",
        "m.fit_bounds([[bounds[1],bounds[0]], [bounds[3],bounds[2]]])\n",
        "\n",
        "items_df.explore(m=m,\n",
        "                 color='black',\n",
        "                 tooltip=['created'],\n",
        "                 style_kwds={'fillOpacity': 0.2, 'weight': 0.5},)\n",
        "aoi.explore(m=m, color='blue')\n",
        "fig.add_child(m)\n"
      ]
    },
    {
      "cell_type": "code",
      "source": [
        "stack = stackstac.stack(items)\n",
        "stack"
      ],
      "metadata": {
        "id": "GU6zrpQ9PUAI"
      },
      "id": "GU6zrpQ9PUAI",
      "execution_count": null,
      "outputs": []
    },
    {
      "cell_type": "code",
      "source": [
        "scene = stack.isel(time=6).sel(band=['red', 'green', 'blue', 'nir', 'swir16'])\n",
        "scene"
      ],
      "metadata": {
        "id": "xSontCMaK_Ui"
      },
      "id": "xSontCMaK_Ui",
      "execution_count": null,
      "outputs": []
    },
    {
      "cell_type": "code",
      "source": [
        "geometry = aoi.to_crs(scene.rio.crs).geometry\n",
        "clipped = scene.rio.clip(geometry)\n",
        "clipped"
      ],
      "metadata": {
        "id": "SjN9SoLMObQ_"
      },
      "id": "SjN9SoLMObQ_",
      "execution_count": null,
      "outputs": []
    },
    {
      "cell_type": "code",
      "source": [
        "scaled = (clipped - 1000)/10000"
      ],
      "metadata": {
        "id": "Jk0bI2rZRSQG"
      },
      "id": "Jk0bI2rZRSQG",
      "execution_count": null,
      "outputs": []
    },
    {
      "cell_type": "code",
      "source": [
        "%time scaled = scaled.compute()"
      ],
      "metadata": {
        "id": "SEfBhvLzRm1C"
      },
      "id": "SEfBhvLzRm1C",
      "execution_count": null,
      "outputs": []
    },
    {
      "cell_type": "code",
      "source": [
        "rgb = scaled.sel(band=['red', 'green', 'blue'])"
      ],
      "metadata": {
        "id": "MWKzQes4Ydno"
      },
      "id": "MWKzQes4Ydno",
      "execution_count": null,
      "outputs": []
    },
    {
      "cell_type": "code",
      "source": [
        "fig, ax = plt.subplots(1, 1)\n",
        "fig.set_size_inches(5,5)\n",
        "rgb.plot.imshow(\n",
        "    ax=ax,\n",
        "    robust=True)\n",
        "ax.set_title('RGB Visualization')\n",
        "ax.set_axis_off()\n",
        "plt.show()"
      ],
      "metadata": {
        "id": "_ALljt6Z6v5x"
      },
      "id": "_ALljt6Z6v5x",
      "execution_count": null,
      "outputs": []
    },
    {
      "cell_type": "code",
      "source": [
        "red = scaled.sel(band='red')\n",
        "nir = scaled.sel(band='nir')\n",
        "green = scaled.sel(band='green')\n",
        "swir1 = scaled.sel(band='swir16')\n",
        "\n",
        "mndwi = (green - swir1)/(green + swir1)\n",
        "ndvi = (nir - red)/(nir + red)\n",
        "ndbi = (swir1 - nir)/(swir1 + nir)"
      ],
      "metadata": {
        "id": "iDDjsOs26uSM"
      },
      "id": "iDDjsOs26uSM",
      "execution_count": null,
      "outputs": []
    },
    {
      "cell_type": "code",
      "source": [
        "%%time\n",
        "files = {\n",
        "    'rgb.tif': rgb,\n",
        "    'ndvi.tif': ndvi,\n",
        "    'mndwi.tif': mndwi,\n",
        "    'ndbi.rif': ndbi\n",
        "\n",
        "}\n",
        "\n",
        "for file in files:\n",
        "  output_path = os.path.join(output_folder, file)\n",
        "  files[file].rio.to_raster(output_path, driver='COG')\n",
        "  print(f'Wrote {file}')"
      ],
      "metadata": {
        "id": "-BuKK_NCSAH3"
      },
      "id": "-BuKK_NCSAH3",
      "execution_count": null,
      "outputs": []
    },
    {
      "cell_type": "code",
      "source": [],
      "metadata": {
        "id": "n_2RjrRDW29K"
      },
      "id": "n_2RjrRDW29K",
      "execution_count": null,
      "outputs": []
    }
  ],
  "metadata": {
    "kernelspec": {
      "display_name": "Python 3 (ipykernel)",
      "language": "python",
      "name": "python3"
    },
    "language_info": {
      "codemirror_mode": {
        "name": "ipython",
        "version": 3
      },
      "file_extension": ".py",
      "mimetype": "text/x-python",
      "name": "python",
      "nbconvert_exporter": "python",
      "pygments_lexer": "ipython3",
      "version": "3.10.5"
    },
    "colab": {
      "provenance": []
    }
  },
  "nbformat": 4,
  "nbformat_minor": 5
}