{
  "cells": [
    {
      "cell_type": "markdown",
      "id": "9a244534-c0a1-41b4-9f73-2087eb72b030",
      "metadata": {
        "id": "9a244534-c0a1-41b4-9f73-2087eb72b030"
      },
      "source": [
        "## LISS4 Image Processing using XArray and Dask\n",
        "\n",
        "This notebook shows how to pre-process scenes from the LISS4 sensor aboard ResourceSat2/2A.\n",
        "\n",
        "The tutorial covers the steps required to download the imagery and apply the pre-processing steps required to make this data ready for analysis - specifically how to programmatically convert the DN values to TOA Reflectance. See [this article](https://spatialthoughts.com/2023/12/25/liss4-processing-xarray/) for a detailed guide.\n"
      ]
    },
    {
      "cell_type": "markdown",
      "id": "2c4204d0-acda-418f-b38a-7d5f2be15eca",
      "metadata": {
        "id": "2c4204d0-acda-418f-b38a-7d5f2be15eca"
      },
      "source": [
        "### Setup and Data Download\n",
        "\n",
        "The following blocks of code will install the required packages and download the datasets to your Colab environment. If you are running this on your own system, you may install the following packages via `conda` and `pip`.\n",
        "\n",
        "```\n",
        "conda create --name liss4\n",
        "conda activate liss4\n",
        "conda install -c conda-forge rioxarray dask jupyterlab -y\n",
        "pip install ephem\n",
        "```"
      ]
    },
    {
      "cell_type": "code",
      "execution_count": null,
      "id": "ZUMFpnKjR5Or",
      "metadata": {
        "id": "ZUMFpnKjR5Or"
      },
      "outputs": [],
      "source": [
        "%%capture\n",
        "if 'google.colab' in str(get_ipython()):\n",
        "  !pip install rioxarray\n",
        "  !pip install ephem"
      ]
    },
    {
      "cell_type": "code",
      "execution_count": null,
      "id": "fe6c71dd-37df-47af-9019-d012cc9b5e59",
      "metadata": {
        "id": "fe6c71dd-37df-47af-9019-d012cc9b5e59",
        "tags": []
      },
      "outputs": [],
      "source": [
        "import datetime\n",
        "import ephem\n",
        "import math\n",
        "import os\n",
        "import rioxarray as rxr\n",
        "import xarray as xr\n",
        "import zipfile"
      ]
    },
    {
      "cell_type": "markdown",
      "id": "9fd3996f-45dd-4ddf-9a8e-93b472d4d502",
      "metadata": {
        "id": "9fd3996f-45dd-4ddf-9a8e-93b472d4d502"
      },
      "source": [
        "Users should download their data from the [Bhoonidhi portal](https://bhoonidhi.nrsc.gov.in/bhoonidhi/index.html). Replace the `liss4_zip` value with name of your zip file. The zip file and the notebook should be in the same directory. If you leave the value empty, a sample zip file will be downloaded for demonstration purpose."
      ]
    },
    {
      "cell_type": "code",
      "source": [
        "liss4_zip = ''"
      ],
      "metadata": {
        "id": "TDrdr3Ae0Nue"
      },
      "id": "TDrdr3Ae0Nue",
      "execution_count": null,
      "outputs": []
    },
    {
      "cell_type": "code",
      "execution_count": null,
      "id": "0ckP_6VIT4Li",
      "metadata": {
        "id": "0ckP_6VIT4Li",
        "tags": []
      },
      "outputs": [],
      "source": [
        "if not liss4_zip:\n",
        "  liss4_zip = 'RAF20FEB2023032197010000064SSANSTUC00GTDC.zip'\n",
        "  data_url = 'https://storage.googleapis.com/spatialthoughts-public-data/liss4/'\n",
        "  url = data_url + liss4_zip\n",
        "  filename = os.path.basename(url)\n",
        "  if not os.path.exists(filename):\n",
        "      from urllib.request import urlretrieve\n",
        "      local, _ = urlretrieve(url, filename)\n",
        "      print('Downloaded demo scene: ' + local)"
      ]
    },
    {
      "cell_type": "markdown",
      "id": "17aee0b4-8b53-4632-b61f-8a0082a52db1",
      "metadata": {
        "id": "17aee0b4-8b53-4632-b61f-8a0082a52db1"
      },
      "source": [
        "Next we initiate a local dask cluster. This uses all the available cores on your machine in parallel. You will see a link to the Dask Dashboard."
      ]
    },
    {
      "cell_type": "code",
      "execution_count": null,
      "id": "72b97011-04ee-49e1-a94b-5d2ae3c761ff",
      "metadata": {
        "id": "72b97011-04ee-49e1-a94b-5d2ae3c761ff"
      },
      "outputs": [],
      "source": [
        "from dask.distributed import Client, progress\n",
        "client = Client()  # set up local cluster on the machine\n",
        "client"
      ]
    },
    {
      "cell_type": "markdown",
      "id": "fI0aLfKGUMrA",
      "metadata": {
        "id": "fI0aLfKGUMrA"
      },
      "source": [
        "### Data Pre-Processing\n"
      ]
    },
    {
      "cell_type": "markdown",
      "id": "m5azuV-rFNvR",
      "metadata": {
        "id": "m5azuV-rFNvR"
      },
      "source": [
        "We first unzip the scene zip file to a folder."
      ]
    },
    {
      "cell_type": "code",
      "execution_count": null,
      "id": "8bb938d8-46f1-4206-ac59-badb3d6eb58c",
      "metadata": {
        "id": "8bb938d8-46f1-4206-ac59-badb3d6eb58c",
        "tags": []
      },
      "outputs": [],
      "source": [
        "with zipfile.ZipFile(liss4_zip) as zf:\n",
        "  # The LISS4 zip files contain a folder with all the data\n",
        "  # Get the folder name\n",
        "  foldername = [info.filename for info in zf.infolist() if info.is_dir()][0]\n",
        "  # Extract all the data\n",
        "  zf.extractall()\n",
        "\n",
        "print(f'Extracted the files to {foldername}.')"
      ]
    },
    {
      "cell_type": "markdown",
      "id": "i-3Q3TvN275r",
      "metadata": {
        "id": "i-3Q3TvN275r"
      },
      "source": [
        "We read the metadata and extract the relevant informaiton. The metadata is contained in the text file `BAND_META.txt`. The format simple key-value pairs of the form `ProductID= 2326285231`. We parse the text into a dictionary."
      ]
    },
    {
      "cell_type": "code",
      "execution_count": null,
      "id": "g63fttvqemvb",
      "metadata": {
        "id": "g63fttvqemvb",
        "tags": []
      },
      "outputs": [],
      "source": [
        "metadata_filename = 'BAND_META.txt'\n",
        "metadata_filepath = os.path.join(foldername, metadata_filename)\n",
        "\n",
        "metadata = {}\n",
        "with open(metadata_filepath) as f:\n",
        "  for line in f:\n",
        "    key, value = line.split('=')\n",
        "    metadata[key.strip()] = value.strip()\n",
        "\n",
        "scene_id = metadata['OTSProductID']\n",
        "print(f'Metadata extracted successfully for scene: {scene_id}')"
      ]
    },
    {
      "cell_type": "markdown",
      "id": "JC26au1ryCRE",
      "metadata": {
        "id": "JC26au1ryCRE"
      },
      "source": [
        "LISS4 images come as 3 individual GeoTIFF rasters for each band. The image files are named `BAND2.tif`, `BAND3.tif` and `BAND4.tif` . We read them using `rioxarray`."
      ]
    },
    {
      "cell_type": "code",
      "execution_count": null,
      "id": "Rf0m1vXtsLQd",
      "metadata": {
        "id": "Rf0m1vXtsLQd",
        "tags": []
      },
      "outputs": [],
      "source": [
        "b2_path = os.path.join(foldername, 'BAND2.tif')\n",
        "b3_path = os.path.join(foldername, 'BAND3.tif')\n",
        "b4_path = os.path.join(foldername, 'BAND4.tif')\n",
        "\n",
        "b2_ds = rxr.open_rasterio(b2_path, chunks=True)\n",
        "b3_ds = rxr.open_rasterio(b3_path, chunks=True)\n",
        "b4_ds = rxr.open_rasterio(b4_path, chunks=True)"
      ]
    },
    {
      "cell_type": "markdown",
      "id": "raC5nb4kFSNQ",
      "metadata": {
        "id": "raC5nb4kFSNQ"
      },
      "source": [
        "Create a XArray Dataset by stacking individual band images. The scene has a NoData value of 0. So we set the correct NoData value before further processing."
      ]
    },
    {
      "cell_type": "code",
      "execution_count": null,
      "id": "xI9j6WTicyj6",
      "metadata": {
        "id": "xI9j6WTicyj6",
        "tags": []
      },
      "outputs": [],
      "source": [
        "scene = xr.concat([b2_ds, b3_ds, b4_ds], dim='band').assign_coords(\n",
        "    band=['BAND2', 'BAND3', 'BAND4'])\n",
        "\n",
        "scene = scene.where(scene != 0)\n",
        "scene.name = scene_id\n",
        "scene\n"
      ]
    },
    {
      "cell_type": "markdown",
      "id": "nJe6I8Fwx_3G",
      "metadata": {
        "id": "nJe6I8Fwx_3G"
      },
      "source": [
        "## Converting DNs to Reflectances\n",
        "\n",
        "The pixel values of the source images are DN values that need to be converted to reflectances before they can be used for analysis.\n",
        "\n",
        "The correction formulae and sensor parameters are published in the following paper\n",
        "\n",
        "*Sharma, Anu & Badarinath, K. & Roy, Parth. (2008). Corrections for atmospheric and adjacency effects on high resolution sensor data a case study using IRS-P6 LISS-IV data. https://www.isprs.org/proceedings/xxxvii/congress/8_pdf/3_wg-viii-3/05.pdf*"
      ]
    },
    {
      "cell_type": "code",
      "execution_count": null,
      "id": "eykKi_dNgtXD",
      "metadata": {
        "id": "eykKi_dNgtXD",
        "tags": []
      },
      "outputs": [],
      "source": [
        "acq_date_str = metadata['DateOfPass']\n",
        "# Date is in the format 04-MAR-2023\n",
        "acq_date = datetime.datetime.strptime(acq_date_str, '%d-%b-%Y')\n",
        "\n",
        "sun_elevation_angle = metadata['SunElevationAtCenter']\n",
        "sun_zenith_angle = 90 - float(sun_elevation_angle)"
      ]
    },
    {
      "cell_type": "markdown",
      "id": "jmIxpYs8PwBF",
      "metadata": {
        "id": "jmIxpYs8PwBF"
      },
      "source": [
        "We need to compute the Earth-Sun distance at the date of acquisition. We use the `pyephm` library to obtain this."
      ]
    },
    {
      "cell_type": "code",
      "execution_count": null,
      "id": "S6ppyuNXPupX",
      "metadata": {
        "id": "S6ppyuNXPupX",
        "tags": []
      },
      "outputs": [],
      "source": [
        "observer = ephem.Observer()\n",
        "observer.date = acq_date\n",
        "sun = ephem.Sun()\n",
        "sun.compute(observer)\n",
        "d = sun.earth_distance"
      ]
    },
    {
      "cell_type": "markdown",
      "id": "b2f0faa1-306d-4042-b14c-571233c7a237",
      "metadata": {
        "id": "b2f0faa1-306d-4042-b14c-571233c7a237"
      },
      "source": [
        "Define the Saturation Radiance for each band. These come from the [RESOURCESAT-2 Data Users’ Handbook ](https://www.euromap.de/download/R2_data_user_handbook.pdf) and are available in metadata as well."
      ]
    },
    {
      "cell_type": "code",
      "execution_count": null,
      "id": "8913a2b3-9a96-4d09-bcf4-276f204f1b41",
      "metadata": {
        "id": "8913a2b3-9a96-4d09-bcf4-276f204f1b41"
      },
      "outputs": [],
      "source": [
        "b2_sr = 47.5614\n",
        "b3_sr = 45.6990\n",
        "b4_sr = 31.5000"
      ]
    },
    {
      "cell_type": "markdown",
      "id": "_wS4DwsQ-8En",
      "metadata": {
        "id": "_wS4DwsQ-8En"
      },
      "source": [
        "Define ex-atmospheric solar irradiance values for each band ESUN for each band as published in [*At-sensor Solar Exo-atmospheric Irradiance, Rayleigh Optical\n",
        "Thickness and Spectral parameters of RS-2 Sensors*](https://www.researchgate.net/profile/Senthil-Kumar-135/post/What-is-the-formula-for-converting-DN-values-to-reflectance-value-for-IRS-R2-LISS-IV-image/attachment/59d61ff4c49f478072e97d4b/AS%3A271753849311232%401441802574228/download/RS2-Spectral+Characteristics.pdf)."
      ]
    },
    {
      "cell_type": "code",
      "execution_count": null,
      "id": "iGmSTjgq_CB8",
      "metadata": {
        "id": "iGmSTjgq_CB8",
        "tags": []
      },
      "outputs": [],
      "source": [
        "b2_esun = 181.89\n",
        "b3_esun = 156.96\n",
        "b4_esun = 110.48"
      ]
    },
    {
      "cell_type": "markdown",
      "id": "CJU6zCJcQCEn",
      "metadata": {
        "id": "CJU6zCJcQCEn"
      },
      "source": [
        "Define other contants needed for computation."
      ]
    },
    {
      "cell_type": "code",
      "execution_count": null,
      "id": "LclxgqPJ-wlJ",
      "metadata": {
        "id": "LclxgqPJ-wlJ",
        "tags": []
      },
      "outputs": [],
      "source": [
        "pi = math.pi\n",
        "sun_zenith_angle_rad = math.radians(sun_zenith_angle)"
      ]
    },
    {
      "cell_type": "markdown",
      "id": "Q0iaZ1_p3uAT",
      "metadata": {
        "id": "Q0iaZ1_p3uAT"
      },
      "source": [
        "Convert DN to Radiance."
      ]
    },
    {
      "cell_type": "code",
      "execution_count": null,
      "id": "P93EkzYj7Zc5",
      "metadata": {
        "id": "P93EkzYj7Zc5",
        "tags": []
      },
      "outputs": [],
      "source": [
        "b2_dn = scene.sel(band='BAND2')\n",
        "b3_dn = scene.sel(band='BAND3')\n",
        "b4_dn = scene.sel(band='BAND4')"
      ]
    },
    {
      "cell_type": "code",
      "execution_count": null,
      "id": "6a5VLqwO-KHi",
      "metadata": {
        "id": "6a5VLqwO-KHi",
        "tags": []
      },
      "outputs": [],
      "source": [
        "b2_rad = b2_dn*b2_sr/1024\n",
        "b3_rad = b3_dn*b3_sr/1024\n",
        "b4_rad = b4_dn*b4_sr/1024"
      ]
    },
    {
      "cell_type": "markdown",
      "id": "ntuiIGaC-tct",
      "metadata": {
        "id": "ntuiIGaC-tct"
      },
      "source": [
        "Convert Radiance to TOA Reflectance."
      ]
    },
    {
      "cell_type": "code",
      "execution_count": null,
      "id": "z7pvxzbQA84G",
      "metadata": {
        "id": "z7pvxzbQA84G",
        "tags": []
      },
      "outputs": [],
      "source": [
        "b2_ref = (pi*b2_rad*d*d)/(b2_esun*math.cos(sun_zenith_angle_rad))\n",
        "b3_ref = (pi*b3_rad*d*d)/(b3_esun*math.cos(sun_zenith_angle_rad))\n",
        "b4_ref = (pi*b4_rad*d*d)/(b4_esun*math.cos(sun_zenith_angle_rad))"
      ]
    },
    {
      "cell_type": "markdown",
      "id": "L0OersswQmBn",
      "metadata": {
        "id": "L0OersswQmBn"
      },
      "source": [
        "Stack the bands into a single XArray Dataset."
      ]
    },
    {
      "cell_type": "code",
      "execution_count": null,
      "id": "-Ha0G-W0B4Cj",
      "metadata": {
        "id": "-Ha0G-W0B4Cj",
        "tags": []
      },
      "outputs": [],
      "source": [
        "reflectance_bands = [b2_ref, b3_ref, b4_ref]\n",
        "scene_ref = xr.concat(reflectance_bands, dim='band').assign_coords(\n",
        "    band=['BAND2', 'BAND3', 'BAND4']).chunk('auto')\n",
        "scene_ref.name = scene_id\n",
        "scene_ref"
      ]
    },
    {
      "cell_type": "markdown",
      "id": "S2CK78uOY4Ew",
      "metadata": {
        "id": "S2CK78uOY4Ew"
      },
      "source": [
        "### Write the Results to Disk"
      ]
    },
    {
      "cell_type": "markdown",
      "id": "e3839965-5658-4fff-ba85-252db0e1dbac",
      "metadata": {
        "id": "e3839965-5658-4fff-ba85-252db0e1dbac"
      },
      "source": [
        "Our DataArray is structured to have 'band' as a dimension which makes it easy for data manipulation and processing. But for use in standard GIS software - it is better to create an XArray Dataset with each band as a variable."
      ]
    },
    {
      "cell_type": "code",
      "execution_count": null,
      "id": "b4b36580-e636-417a-8ab1-293bb3d86041",
      "metadata": {
        "id": "b4b36580-e636-417a-8ab1-293bb3d86041"
      },
      "outputs": [],
      "source": [
        "output_ds = scene_ref.to_dataset('band')\n",
        "output_ds"
      ]
    },
    {
      "cell_type": "markdown",
      "id": "e35b0d05-f907-43b5-8f1e-39b5e22a8986",
      "metadata": {
        "id": "e35b0d05-f907-43b5-8f1e-39b5e22a8986"
      },
      "source": [
        "Define the options for the output file. We use the COG driver to create a [Cloud-Optimized GeoTIFF](https://www.cogeo.org/) file."
      ]
    },
    {
      "cell_type": "code",
      "execution_count": null,
      "id": "tci-iXalB95D",
      "metadata": {
        "id": "tci-iXalB95D",
        "tags": []
      },
      "outputs": [],
      "source": [
        "output_file = f'{scene_id}.tif'\n",
        "\n",
        "output_options = {\n",
        "    'driver': 'COG',\n",
        "    'compress': 'deflate',\n",
        "    'num_threads': 'all_cpus',\n",
        "    'windowed': False # set True if you run out of RAM\n",
        "}"
      ]
    },
    {
      "cell_type": "markdown",
      "id": "99dc471b-3063-44f9-9fdf-1dfb16f23f24",
      "metadata": {
        "id": "99dc471b-3063-44f9-9fdf-1dfb16f23f24"
      },
      "source": [
        "Write the raster. Dask will now run the processing graph on the local cluster.\n",
        "\n",
        "> Note: Dask dashboard is not available on Colab. If you are running this on Colab - the processing takes around 5 minutes of the default backend."
      ]
    },
    {
      "cell_type": "code",
      "execution_count": null,
      "id": "AcIPzY3sQ30w",
      "metadata": {
        "id": "AcIPzY3sQ30w",
        "tags": []
      },
      "outputs": [],
      "source": [
        "output_ds[['BAND2', 'BAND3', 'BAND4']].rio.to_raster(\n",
        "    output_file, **output_options)\n",
        "print(f'Output file created {output_file}')"
      ]
    }
  ],
  "metadata": {
    "colab": {
      "provenance": []
    },
    "kernelspec": {
      "display_name": "Python 3 (ipykernel)",
      "language": "python",
      "name": "python3"
    },
    "language_info": {
      "codemirror_mode": {
        "name": "ipython",
        "version": 3
      },
      "file_extension": ".py",
      "mimetype": "text/x-python",
      "name": "python",
      "nbconvert_exporter": "python",
      "pygments_lexer": "ipython3",
      "version": "3.12.1"
    }
  },
  "nbformat": 4,
  "nbformat_minor": 5
}