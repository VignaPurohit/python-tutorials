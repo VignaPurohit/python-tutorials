{
 "cells": [
  {
   "cell_type": "markdown",
   "id": "9a244534-c0a1-41b4-9f73-2087eb72b030",
   "metadata": {
    "id": "9a244534-c0a1-41b4-9f73-2087eb72b030"
   },
   "source": [
    "## LISS4 Image Processing using XArray and Dask\n",
    "\n",
    "This notebook shows how to pre-process scenes from the LISS4 sensor aboard ResourceSat2/2A. \n",
    "\n",
    "The tutorial covers the steps required to download the imagery and apply the pre-processing steps required to make this data ready for analysis - specifically how to programmatically convert the DN values to TOA Reflectance. See [this article](https://spatialthoughts.com/2023/12/25/liss4-processing-xarray/) for a detailed guide.\n"
   ]
  },
  {
   "cell_type": "markdown",
   "id": "2c4204d0-acda-418f-b38a-7d5f2be15eca",
   "metadata": {
    "id": "2c4204d0-acda-418f-b38a-7d5f2be15eca"
   },
   "source": [
    "### Setup and Data Download\n",
    "\n",
    "The following blocks of code will install the required packages and download the datasets to your Colab environment. If you are running this on your own system, you may install the following packages via `conda` and `pip`.\n",
    "\n",
    "```\n",
    "conda create --name liss4\n",
    "conda activate liss4\n",
    "conda install -c conda-forge rioxarray dask jupyterlab -y\n",
    "pip install ephem\n",
    "```"
   ]
  },
  {
   "cell_type": "code",
   "execution_count": null,
   "id": "ZUMFpnKjR5Or",
   "metadata": {
    "id": "ZUMFpnKjR5Or"
   },
   "outputs": [],
   "source": [
    "%%capture\n",
    "if 'google.colab' in str(get_ipython()):\n",
    "  !pip install rioxarray\n",
    "  !pip install ephem"
   ]
  },
  {
   "cell_type": "code",
   "execution_count": null,
   "id": "fe6c71dd-37df-47af-9019-d012cc9b5e59",
   "metadata": {
    "id": "fe6c71dd-37df-47af-9019-d012cc9b5e59",
    "tags": []
   },
   "outputs": [],
   "source": [
    "import datetime\n",
    "import ephem\n",
    "import math\n",
    "import os\n",
    "import rioxarray as rxr\n",
    "import xarray as xr\n",
    "import zipfile"
   ]
  },
  {
   "cell_type": "markdown",
   "id": "9fd3996f-45dd-4ddf-9a8e-93b472d4d502",
   "metadata": {},
   "source": [
    "Users should download their data from the [Bhoonidhi portal](https://bhoonidhi.nrsc.gov.in/bhoonidhi/index.html). Replace the `liss4_zip` value with your own downloaded file. "
   ]
  },
  {
   "cell_type": "code",
   "execution_count": null,
   "id": "0ckP_6VIT4Li",
   "metadata": {
    "id": "0ckP_6VIT4Li",
    "tags": []
   },
   "outputs": [],
   "source": [
    "def download(url):\n",
    "    filename = os.path.basename(url)\n",
    "    if not os.path.exists(filename):\n",
    "        from urllib.request import urlretrieve\n",
    "        local, _ = urlretrieve(url, filename)\n",
    "        print('Downloaded ' + local)\n",
    "\n",
    "liss4_zip = 'RAF20FEB2023032197010000064SSANSTUC00GTDC.zip'\n",
    "data_url = 'https://storage.googleapis.com/spatialthoughts-public-data/'\n",
    "\n",
    "download(data_url + 'liss4/' + liss4_zip)"
   ]
  },
  {
   "cell_type": "markdown",
   "id": "17aee0b4-8b53-4632-b61f-8a0082a52db1",
   "metadata": {},
   "source": [
    "Next we initiate a local dask cluster. This uses all the available cores on your machine in parallel. You will see a link to the Dask Dashboard. "
   ]
  },
  {
   "cell_type": "code",
   "execution_count": null,
   "id": "72b97011-04ee-49e1-a94b-5d2ae3c761ff",
   "metadata": {},
   "outputs": [],
   "source": [
    "from dask.distributed import Client, progress\n",
    "client = Client()  # set up local cluster on the machine\n",
    "client"
   ]
  },
  {
   "cell_type": "markdown",
   "id": "fI0aLfKGUMrA",
   "metadata": {
    "id": "fI0aLfKGUMrA"
   },
   "source": [
    "### Data Pre-Processing\n"
   ]
  },
  {
   "cell_type": "markdown",
   "id": "m5azuV-rFNvR",
   "metadata": {
    "id": "m5azuV-rFNvR"
   },
   "source": [
    "We first unzip the scene zip file to a folder."
   ]
  },
  {
   "cell_type": "code",
   "execution_count": null,
   "id": "8bb938d8-46f1-4206-ac59-badb3d6eb58c",
   "metadata": {
    "colab": {
     "base_uri": "https://localhost:8080/"
    },
    "id": "8bb938d8-46f1-4206-ac59-badb3d6eb58c",
    "outputId": "1034525e-c6ae-476d-f200-c5832955ae5f",
    "tags": []
   },
   "outputs": [],
   "source": [
    "with zipfile.ZipFile(liss4_zip) as zf:\n",
    "  # The LISS4 zip files contain a folder with all the data\n",
    "  # Get the folder name\n",
    "  foldername = [info.filename for info in zf.infolist() if info.is_dir()][0]\n",
    "  # Extract all the data\n",
    "  zf.extractall()\n",
    "\n",
    "print(f'Extracted the files to {foldername}.')"
   ]
  },
  {
   "cell_type": "markdown",
   "id": "i-3Q3TvN275r",
   "metadata": {
    "id": "i-3Q3TvN275r"
   },
   "source": [
    "We read the metadata and extract the relevant informaiton. The metadata is contained in the text file `BAND_META.txt`. The format simple key-value pairs of the form `ProductID= 2326285231`. We parse the text into a dictionary."
   ]
  },
  {
   "cell_type": "code",
   "execution_count": null,
   "id": "g63fttvqemvb",
   "metadata": {
    "colab": {
     "base_uri": "https://localhost:8080/"
    },
    "id": "g63fttvqemvb",
    "outputId": "0fed04d9-5b73-4c69-fd68-2946da308b9b",
    "tags": []
   },
   "outputs": [],
   "source": [
    "metadata_filename = 'BAND_META.txt'\n",
    "metadata_filepath = os.path.join(foldername, metadata_filename)\n",
    "\n",
    "metadata = {}\n",
    "with open(metadata_filepath) as f:\n",
    "  for line in f:\n",
    "    key, value = line.split('=')\n",
    "    metadata[key.strip()] = value.strip()\n",
    "\n",
    "scene_id = metadata['OTSProductID']\n",
    "print(f'Metadata extracted successfully for scene: {scene_id}')"
   ]
  },
  {
   "cell_type": "markdown",
   "id": "JC26au1ryCRE",
   "metadata": {
    "id": "JC26au1ryCRE"
   },
   "source": [
    "LISS4 images come as 3 individual GeoTIFF rasters for each band. The image files are named `BAND2.tif`, `BAND3.tif` and `BAND4.tif` . We read them using `rioxarray`."
   ]
  },
  {
   "cell_type": "code",
   "execution_count": null,
   "id": "Rf0m1vXtsLQd",
   "metadata": {
    "colab": {
     "base_uri": "https://localhost:8080/"
    },
    "id": "Rf0m1vXtsLQd",
    "outputId": "1cda0fd4-8a8e-44f5-ada4-faa003a5129a",
    "tags": []
   },
   "outputs": [],
   "source": [
    "b2_path = os.path.join(foldername, 'BAND2.tif')\n",
    "b3_path = os.path.join(foldername, 'BAND3.tif')\n",
    "b4_path = os.path.join(foldername, 'BAND4.tif')\n",
    "\n",
    "b2_ds = rxr.open_rasterio(b2_path, chunks=True)\n",
    "b3_ds = rxr.open_rasterio(b3_path, chunks=True)\n",
    "b4_ds = rxr.open_rasterio(b4_path, chunks=True)"
   ]
  },
  {
   "cell_type": "markdown",
   "id": "raC5nb4kFSNQ",
   "metadata": {
    "id": "raC5nb4kFSNQ"
   },
   "source": [
    "Create a XArray Dataset by stacking individual band images. The scene has a NoData value of 0. So we set the correct NoData value before further processing."
   ]
  },
  {
   "cell_type": "code",
   "execution_count": null,
   "id": "xI9j6WTicyj6",
   "metadata": {
    "colab": {
     "base_uri": "https://localhost:8080/",
     "height": 786
    },
    "id": "xI9j6WTicyj6",
    "outputId": "649028f2-2b54-458f-b00a-8aa15880b396",
    "tags": []
   },
   "outputs": [],
   "source": [
    "scene = xr.concat([b2_ds, b3_ds, b4_ds], dim='band').assign_coords(\n",
    "    band=['BAND2', 'BAND3', 'BAND4'])\n",
    "\n",
    "scene = scene.where(scene != 0)\n",
    "scene.name = scene_id\n",
    "scene\n"
   ]
  },
  {
   "cell_type": "markdown",
   "id": "nJe6I8Fwx_3G",
   "metadata": {
    "id": "nJe6I8Fwx_3G"
   },
   "source": [
    "## Converting DNs to Reflectances\n",
    "\n",
    "The pixel values of the source images are DN values that need to be converted to reflectances before they can be used for analysis.\n",
    "\n",
    "The correction formulae and sensor parameters are published in the following paper\n",
    "\n",
    "*Sharma, Anu & Badarinath, K. & Roy, Parth. (2008). Corrections for atmospheric and adjacency effects on high resolution sensor data a case study using IRS-P6 LISS-IV data. https://www.isprs.org/proceedings/xxxvii/congress/8_pdf/3_wg-viii-3/05.pdf*"
   ]
  },
  {
   "cell_type": "code",
   "execution_count": null,
   "id": "eykKi_dNgtXD",
   "metadata": {
    "id": "eykKi_dNgtXD",
    "tags": []
   },
   "outputs": [],
   "source": [
    "acq_date_str = metadata['DateOfPass']\n",
    "# Date is in the format 04-MAR-2023\n",
    "acq_date = datetime.datetime.strptime(acq_date_str, '%d-%b-%Y')\n",
    "\n",
    "sun_elevation_angle = metadata['SunElevationAtCenter']\n",
    "sun_zenith_angle = 90 - float(sun_elevation_angle)"
   ]
  },
  {
   "cell_type": "markdown",
   "id": "jmIxpYs8PwBF",
   "metadata": {
    "id": "jmIxpYs8PwBF"
   },
   "source": [
    "We need to compute the Earth-Sun distance at the date of acquisition. We use the `pyephm` library to obtain this."
   ]
  },
  {
   "cell_type": "code",
   "execution_count": null,
   "id": "S6ppyuNXPupX",
   "metadata": {
    "id": "S6ppyuNXPupX",
    "tags": []
   },
   "outputs": [],
   "source": [
    "observer = ephem.Observer()\n",
    "observer.date = acq_date\n",
    "sun = ephem.Sun()\n",
    "sun.compute(observer)\n",
    "d = sun.earth_distance"
   ]
  },
  {
   "cell_type": "markdown",
   "id": "b2f0faa1-306d-4042-b14c-571233c7a237",
   "metadata": {},
   "source": [
    "Define the Saturation Radiance for each band. These come from the [RESOURCESAT-2 Data Users’ Handbook ](https://www.euromap.de/download/R2_data_user_handbook.pdf) and are available in metadata as well."
   ]
  },
  {
   "cell_type": "code",
   "execution_count": null,
   "id": "8913a2b3-9a96-4d09-bcf4-276f204f1b41",
   "metadata": {},
   "outputs": [],
   "source": [
    "b2_sr = 47.5614\n",
    "b3_sr = 45.6990\n",
    "b4_sr = 31.5000"
   ]
  },
  {
   "cell_type": "markdown",
   "id": "_wS4DwsQ-8En",
   "metadata": {
    "id": "_wS4DwsQ-8En"
   },
   "source": [
    "Define ex-atmospheric solar irradiance values for each band ESUN for each band as published in [*At-sensor Solar Exo-atmospheric Irradiance, Rayleigh Optical\n",
    "Thickness and Spectral parameters of RS-2 Sensors*](https://www.researchgate.net/profile/Senthil-Kumar-135/post/What-is-the-formula-for-converting-DN-values-to-reflectance-value-for-IRS-R2-LISS-IV-image/attachment/59d61ff4c49f478072e97d4b/AS%3A271753849311232%401441802574228/download/RS2-Spectral+Characteristics.pdf)."
   ]
  },
  {
   "cell_type": "code",
   "execution_count": null,
   "id": "iGmSTjgq_CB8",
   "metadata": {
    "id": "iGmSTjgq_CB8",
    "tags": []
   },
   "outputs": [],
   "source": [
    "b2_esun = 181.89\n",
    "b3_esun = 156.96\n",
    "b4_esun = 110.48"
   ]
  },
  {
   "cell_type": "markdown",
   "id": "CJU6zCJcQCEn",
   "metadata": {
    "id": "CJU6zCJcQCEn"
   },
   "source": [
    "Define other contants needed for computation."
   ]
  },
  {
   "cell_type": "code",
   "execution_count": null,
   "id": "LclxgqPJ-wlJ",
   "metadata": {
    "id": "LclxgqPJ-wlJ",
    "tags": []
   },
   "outputs": [],
   "source": [
    "pi = math.pi\n",
    "sun_zenith_angle_rad = math.radians(sun_zenith_angle)"
   ]
  },
  {
   "cell_type": "markdown",
   "id": "Q0iaZ1_p3uAT",
   "metadata": {
    "id": "Q0iaZ1_p3uAT"
   },
   "source": [
    "Convert DN to Radiance."
   ]
  },
  {
   "cell_type": "code",
   "execution_count": null,
   "id": "P93EkzYj7Zc5",
   "metadata": {
    "id": "P93EkzYj7Zc5",
    "tags": []
   },
   "outputs": [],
   "source": [
    "b2_dn = scene.sel(band='BAND2')\n",
    "b3_dn = scene.sel(band='BAND3')\n",
    "b4_dn = scene.sel(band='BAND4')"
   ]
  },
  {
   "cell_type": "code",
   "execution_count": null,
   "id": "6a5VLqwO-KHi",
   "metadata": {
    "id": "6a5VLqwO-KHi",
    "tags": []
   },
   "outputs": [],
   "source": [
    "b2_rad = b2_dn*b2_sr/1024\n",
    "b3_rad = b3_dn*b3_sr/1024\n",
    "b4_rad = b4_dn*b4_sr/1024"
   ]
  },
  {
   "cell_type": "markdown",
   "id": "ntuiIGaC-tct",
   "metadata": {
    "id": "ntuiIGaC-tct"
   },
   "source": [
    "Convert Radiance to TOA Reflectance."
   ]
  },
  {
   "cell_type": "code",
   "execution_count": null,
   "id": "z7pvxzbQA84G",
   "metadata": {
    "id": "z7pvxzbQA84G",
    "tags": []
   },
   "outputs": [],
   "source": [
    "b2_ref = (pi*b2_rad*d*d)/(b2_esun*math.cos(sun_zenith_angle_rad))\n",
    "b3_ref = (pi*b3_rad*d*d)/(b3_esun*math.cos(sun_zenith_angle_rad))\n",
    "b4_ref = (pi*b4_rad*d*d)/(b4_esun*math.cos(sun_zenith_angle_rad))"
   ]
  },
  {
   "cell_type": "markdown",
   "id": "L0OersswQmBn",
   "metadata": {
    "id": "L0OersswQmBn"
   },
   "source": [
    "Stack the bands into a single XArray Dataset."
   ]
  },
  {
   "cell_type": "code",
   "execution_count": 21,
   "id": "-Ha0G-W0B4Cj",
   "metadata": {
    "colab": {
     "base_uri": "https://localhost:8080/",
     "height": 595
    },
    "id": "-Ha0G-W0B4Cj",
    "outputId": "fdb2afed-3fd2-4f11-8390-f6774940c8ea",
    "tags": []
   },
   "outputs": [
    {
     "data": {
      "text/html": [
       "<div><svg style=\"position: absolute; width: 0; height: 0; overflow: hidden\">\n",
       "<defs>\n",
       "<symbol id=\"icon-database\" viewBox=\"0 0 32 32\">\n",
       "<path d=\"M16 0c-8.837 0-16 2.239-16 5v4c0 2.761 7.163 5 16 5s16-2.239 16-5v-4c0-2.761-7.163-5-16-5z\"></path>\n",
       "<path d=\"M16 17c-8.837 0-16-2.239-16-5v6c0 2.761 7.163 5 16 5s16-2.239 16-5v-6c0 2.761-7.163 5-16 5z\"></path>\n",
       "<path d=\"M16 26c-8.837 0-16-2.239-16-5v6c0 2.761 7.163 5 16 5s16-2.239 16-5v-6c0 2.761-7.163 5-16 5z\"></path>\n",
       "</symbol>\n",
       "<symbol id=\"icon-file-text2\" viewBox=\"0 0 32 32\">\n",
       "<path d=\"M28.681 7.159c-0.694-0.947-1.662-2.053-2.724-3.116s-2.169-2.030-3.116-2.724c-1.612-1.182-2.393-1.319-2.841-1.319h-15.5c-1.378 0-2.5 1.121-2.5 2.5v27c0 1.378 1.122 2.5 2.5 2.5h23c1.378 0 2.5-1.122 2.5-2.5v-19.5c0-0.448-0.137-1.23-1.319-2.841zM24.543 5.457c0.959 0.959 1.712 1.825 2.268 2.543h-4.811v-4.811c0.718 0.556 1.584 1.309 2.543 2.268zM28 29.5c0 0.271-0.229 0.5-0.5 0.5h-23c-0.271 0-0.5-0.229-0.5-0.5v-27c0-0.271 0.229-0.5 0.5-0.5 0 0 15.499-0 15.5 0v7c0 0.552 0.448 1 1 1h7v19.5z\"></path>\n",
       "<path d=\"M23 26h-14c-0.552 0-1-0.448-1-1s0.448-1 1-1h14c0.552 0 1 0.448 1 1s-0.448 1-1 1z\"></path>\n",
       "<path d=\"M23 22h-14c-0.552 0-1-0.448-1-1s0.448-1 1-1h14c0.552 0 1 0.448 1 1s-0.448 1-1 1z\"></path>\n",
       "<path d=\"M23 18h-14c-0.552 0-1-0.448-1-1s0.448-1 1-1h14c0.552 0 1 0.448 1 1s-0.448 1-1 1z\"></path>\n",
       "</symbol>\n",
       "</defs>\n",
       "</svg>\n",
       "<style>/* CSS stylesheet for displaying xarray objects in jupyterlab.\n",
       " *\n",
       " */\n",
       "\n",
       ":root {\n",
       "  --xr-font-color0: var(--jp-content-font-color0, rgba(0, 0, 0, 1));\n",
       "  --xr-font-color2: var(--jp-content-font-color2, rgba(0, 0, 0, 0.54));\n",
       "  --xr-font-color3: var(--jp-content-font-color3, rgba(0, 0, 0, 0.38));\n",
       "  --xr-border-color: var(--jp-border-color2, #e0e0e0);\n",
       "  --xr-disabled-color: var(--jp-layout-color3, #bdbdbd);\n",
       "  --xr-background-color: var(--jp-layout-color0, white);\n",
       "  --xr-background-color-row-even: var(--jp-layout-color1, white);\n",
       "  --xr-background-color-row-odd: var(--jp-layout-color2, #eeeeee);\n",
       "}\n",
       "\n",
       "html[theme=dark],\n",
       "body[data-theme=dark],\n",
       "body.vscode-dark {\n",
       "  --xr-font-color0: rgba(255, 255, 255, 1);\n",
       "  --xr-font-color2: rgba(255, 255, 255, 0.54);\n",
       "  --xr-font-color3: rgba(255, 255, 255, 0.38);\n",
       "  --xr-border-color: #1F1F1F;\n",
       "  --xr-disabled-color: #515151;\n",
       "  --xr-background-color: #111111;\n",
       "  --xr-background-color-row-even: #111111;\n",
       "  --xr-background-color-row-odd: #313131;\n",
       "}\n",
       "\n",
       ".xr-wrap {\n",
       "  display: block !important;\n",
       "  min-width: 300px;\n",
       "  max-width: 700px;\n",
       "}\n",
       "\n",
       ".xr-text-repr-fallback {\n",
       "  /* fallback to plain text repr when CSS is not injected (untrusted notebook) */\n",
       "  display: none;\n",
       "}\n",
       "\n",
       ".xr-header {\n",
       "  padding-top: 6px;\n",
       "  padding-bottom: 6px;\n",
       "  margin-bottom: 4px;\n",
       "  border-bottom: solid 1px var(--xr-border-color);\n",
       "}\n",
       "\n",
       ".xr-header > div,\n",
       ".xr-header > ul {\n",
       "  display: inline;\n",
       "  margin-top: 0;\n",
       "  margin-bottom: 0;\n",
       "}\n",
       "\n",
       ".xr-obj-type,\n",
       ".xr-array-name {\n",
       "  margin-left: 2px;\n",
       "  margin-right: 10px;\n",
       "}\n",
       "\n",
       ".xr-obj-type {\n",
       "  color: var(--xr-font-color2);\n",
       "}\n",
       "\n",
       ".xr-sections {\n",
       "  padding-left: 0 !important;\n",
       "  display: grid;\n",
       "  grid-template-columns: 150px auto auto 1fr 20px 20px;\n",
       "}\n",
       "\n",
       ".xr-section-item {\n",
       "  display: contents;\n",
       "}\n",
       "\n",
       ".xr-section-item input {\n",
       "  display: none;\n",
       "}\n",
       "\n",
       ".xr-section-item input + label {\n",
       "  color: var(--xr-disabled-color);\n",
       "}\n",
       "\n",
       ".xr-section-item input:enabled + label {\n",
       "  cursor: pointer;\n",
       "  color: var(--xr-font-color2);\n",
       "}\n",
       "\n",
       ".xr-section-item input:enabled + label:hover {\n",
       "  color: var(--xr-font-color0);\n",
       "}\n",
       "\n",
       ".xr-section-summary {\n",
       "  grid-column: 1;\n",
       "  color: var(--xr-font-color2);\n",
       "  font-weight: 500;\n",
       "}\n",
       "\n",
       ".xr-section-summary > span {\n",
       "  display: inline-block;\n",
       "  padding-left: 0.5em;\n",
       "}\n",
       "\n",
       ".xr-section-summary-in:disabled + label {\n",
       "  color: var(--xr-font-color2);\n",
       "}\n",
       "\n",
       ".xr-section-summary-in + label:before {\n",
       "  display: inline-block;\n",
       "  content: '►';\n",
       "  font-size: 11px;\n",
       "  width: 15px;\n",
       "  text-align: center;\n",
       "}\n",
       "\n",
       ".xr-section-summary-in:disabled + label:before {\n",
       "  color: var(--xr-disabled-color);\n",
       "}\n",
       "\n",
       ".xr-section-summary-in:checked + label:before {\n",
       "  content: '▼';\n",
       "}\n",
       "\n",
       ".xr-section-summary-in:checked + label > span {\n",
       "  display: none;\n",
       "}\n",
       "\n",
       ".xr-section-summary,\n",
       ".xr-section-inline-details {\n",
       "  padding-top: 4px;\n",
       "  padding-bottom: 4px;\n",
       "}\n",
       "\n",
       ".xr-section-inline-details {\n",
       "  grid-column: 2 / -1;\n",
       "}\n",
       "\n",
       ".xr-section-details {\n",
       "  display: none;\n",
       "  grid-column: 1 / -1;\n",
       "  margin-bottom: 5px;\n",
       "}\n",
       "\n",
       ".xr-section-summary-in:checked ~ .xr-section-details {\n",
       "  display: contents;\n",
       "}\n",
       "\n",
       ".xr-array-wrap {\n",
       "  grid-column: 1 / -1;\n",
       "  display: grid;\n",
       "  grid-template-columns: 20px auto;\n",
       "}\n",
       "\n",
       ".xr-array-wrap > label {\n",
       "  grid-column: 1;\n",
       "  vertical-align: top;\n",
       "}\n",
       "\n",
       ".xr-preview {\n",
       "  color: var(--xr-font-color3);\n",
       "}\n",
       "\n",
       ".xr-array-preview,\n",
       ".xr-array-data {\n",
       "  padding: 0 5px !important;\n",
       "  grid-column: 2;\n",
       "}\n",
       "\n",
       ".xr-array-data,\n",
       ".xr-array-in:checked ~ .xr-array-preview {\n",
       "  display: none;\n",
       "}\n",
       "\n",
       ".xr-array-in:checked ~ .xr-array-data,\n",
       ".xr-array-preview {\n",
       "  display: inline-block;\n",
       "}\n",
       "\n",
       ".xr-dim-list {\n",
       "  display: inline-block !important;\n",
       "  list-style: none;\n",
       "  padding: 0 !important;\n",
       "  margin: 0;\n",
       "}\n",
       "\n",
       ".xr-dim-list li {\n",
       "  display: inline-block;\n",
       "  padding: 0;\n",
       "  margin: 0;\n",
       "}\n",
       "\n",
       ".xr-dim-list:before {\n",
       "  content: '(';\n",
       "}\n",
       "\n",
       ".xr-dim-list:after {\n",
       "  content: ')';\n",
       "}\n",
       "\n",
       ".xr-dim-list li:not(:last-child):after {\n",
       "  content: ',';\n",
       "  padding-right: 5px;\n",
       "}\n",
       "\n",
       ".xr-has-index {\n",
       "  font-weight: bold;\n",
       "}\n",
       "\n",
       ".xr-var-list,\n",
       ".xr-var-item {\n",
       "  display: contents;\n",
       "}\n",
       "\n",
       ".xr-var-item > div,\n",
       ".xr-var-item label,\n",
       ".xr-var-item > .xr-var-name span {\n",
       "  background-color: var(--xr-background-color-row-even);\n",
       "  margin-bottom: 0;\n",
       "}\n",
       "\n",
       ".xr-var-item > .xr-var-name:hover span {\n",
       "  padding-right: 5px;\n",
       "}\n",
       "\n",
       ".xr-var-list > li:nth-child(odd) > div,\n",
       ".xr-var-list > li:nth-child(odd) > label,\n",
       ".xr-var-list > li:nth-child(odd) > .xr-var-name span {\n",
       "  background-color: var(--xr-background-color-row-odd);\n",
       "}\n",
       "\n",
       ".xr-var-name {\n",
       "  grid-column: 1;\n",
       "}\n",
       "\n",
       ".xr-var-dims {\n",
       "  grid-column: 2;\n",
       "}\n",
       "\n",
       ".xr-var-dtype {\n",
       "  grid-column: 3;\n",
       "  text-align: right;\n",
       "  color: var(--xr-font-color2);\n",
       "}\n",
       "\n",
       ".xr-var-preview {\n",
       "  grid-column: 4;\n",
       "}\n",
       "\n",
       ".xr-index-preview {\n",
       "  grid-column: 2 / 5;\n",
       "  color: var(--xr-font-color2);\n",
       "}\n",
       "\n",
       ".xr-var-name,\n",
       ".xr-var-dims,\n",
       ".xr-var-dtype,\n",
       ".xr-preview,\n",
       ".xr-attrs dt {\n",
       "  white-space: nowrap;\n",
       "  overflow: hidden;\n",
       "  text-overflow: ellipsis;\n",
       "  padding-right: 10px;\n",
       "}\n",
       "\n",
       ".xr-var-name:hover,\n",
       ".xr-var-dims:hover,\n",
       ".xr-var-dtype:hover,\n",
       ".xr-attrs dt:hover {\n",
       "  overflow: visible;\n",
       "  width: auto;\n",
       "  z-index: 1;\n",
       "}\n",
       "\n",
       ".xr-var-attrs,\n",
       ".xr-var-data,\n",
       ".xr-index-data {\n",
       "  display: none;\n",
       "  background-color: var(--xr-background-color) !important;\n",
       "  padding-bottom: 5px !important;\n",
       "}\n",
       "\n",
       ".xr-var-attrs-in:checked ~ .xr-var-attrs,\n",
       ".xr-var-data-in:checked ~ .xr-var-data,\n",
       ".xr-index-data-in:checked ~ .xr-index-data {\n",
       "  display: block;\n",
       "}\n",
       "\n",
       ".xr-var-data > table {\n",
       "  float: right;\n",
       "}\n",
       "\n",
       ".xr-var-name span,\n",
       ".xr-var-data,\n",
       ".xr-index-name div,\n",
       ".xr-index-data,\n",
       ".xr-attrs {\n",
       "  padding-left: 25px !important;\n",
       "}\n",
       "\n",
       ".xr-attrs,\n",
       ".xr-var-attrs,\n",
       ".xr-var-data,\n",
       ".xr-index-data {\n",
       "  grid-column: 1 / -1;\n",
       "}\n",
       "\n",
       "dl.xr-attrs {\n",
       "  padding: 0;\n",
       "  margin: 0;\n",
       "  display: grid;\n",
       "  grid-template-columns: 125px auto;\n",
       "}\n",
       "\n",
       ".xr-attrs dt,\n",
       ".xr-attrs dd {\n",
       "  padding: 0;\n",
       "  margin: 0;\n",
       "  float: left;\n",
       "  padding-right: 10px;\n",
       "  width: auto;\n",
       "}\n",
       "\n",
       ".xr-attrs dt {\n",
       "  font-weight: normal;\n",
       "  grid-column: 1;\n",
       "}\n",
       "\n",
       ".xr-attrs dt:hover span {\n",
       "  display: inline-block;\n",
       "  background: var(--xr-background-color);\n",
       "  padding-right: 10px;\n",
       "}\n",
       "\n",
       ".xr-attrs dd {\n",
       "  grid-column: 2;\n",
       "  white-space: pre-wrap;\n",
       "  word-break: break-all;\n",
       "}\n",
       "\n",
       ".xr-icon-database,\n",
       ".xr-icon-file-text2,\n",
       ".xr-no-icon {\n",
       "  display: inline-block;\n",
       "  vertical-align: middle;\n",
       "  width: 1em;\n",
       "  height: 1.5em !important;\n",
       "  stroke-width: 0;\n",
       "  stroke: currentColor;\n",
       "  fill: currentColor;\n",
       "}\n",
       "</style><pre class='xr-text-repr-fallback'>&lt;xarray.DataArray &#x27;RAF20FEB2023032197010000064SSANSTUC00GTDC&#x27; (band: 3,\n",
       "                                                               y: 16615,\n",
       "                                                               x: 17733)&gt;\n",
       "dask.array&lt;rechunk-merge, shape=(3, 16615, 17733), dtype=float32, chunksize=(1, 2674, 12547), chunktype=numpy.ndarray&gt;\n",
       "Coordinates:\n",
       "  * x            (x) float64 7.15e+05 7.15e+05 7.15e+05 ... 8.036e+05 8.036e+05\n",
       "  * y            (y) float64 1.468e+06 1.468e+06 ... 1.385e+06 1.385e+06\n",
       "    spatial_ref  int64 0\n",
       "  * band         (band) &lt;U5 &#x27;BAND2&#x27; &#x27;BAND3&#x27; &#x27;BAND4&#x27;</pre><div class='xr-wrap' style='display:none'><div class='xr-header'><div class='xr-obj-type'>xarray.DataArray</div><div class='xr-array-name'>'RAF20FEB2023032197010000064SSANSTUC00GTDC'</div><ul class='xr-dim-list'><li><span class='xr-has-index'>band</span>: 3</li><li><span class='xr-has-index'>y</span>: 16615</li><li><span class='xr-has-index'>x</span>: 17733</li></ul></div><ul class='xr-sections'><li class='xr-section-item'><div class='xr-array-wrap'><input id='section-159bd16a-1863-4942-8682-97f63d9a9eea' class='xr-array-in' type='checkbox' checked><label for='section-159bd16a-1863-4942-8682-97f63d9a9eea' title='Show/hide data repr'><svg class='icon xr-icon-database'><use xlink:href='#icon-database'></use></svg></label><div class='xr-array-preview xr-preview'><span>dask.array&lt;chunksize=(1, 2674, 12547), meta=np.ndarray&gt;</span></div><div class='xr-array-data'><table>\n",
       "    <tr>\n",
       "        <td>\n",
       "            <table style=\"border-collapse: collapse;\">\n",
       "                <thead>\n",
       "                    <tr>\n",
       "                        <td> </td>\n",
       "                        <th> Array </th>\n",
       "                        <th> Chunk </th>\n",
       "                    </tr>\n",
       "                </thead>\n",
       "                <tbody>\n",
       "                    \n",
       "                    <tr>\n",
       "                        <th> Bytes </th>\n",
       "                        <td> 3.29 GiB </td>\n",
       "                        <td> 127.99 MiB </td>\n",
       "                    </tr>\n",
       "                    \n",
       "                    <tr>\n",
       "                        <th> Shape </th>\n",
       "                        <td> (3, 16615, 17733) </td>\n",
       "                        <td> (1, 2674, 12547) </td>\n",
       "                    </tr>\n",
       "                    <tr>\n",
       "                        <th> Dask graph </th>\n",
       "                        <td colspan=\"2\"> 42 chunks in 36 graph layers </td>\n",
       "                    </tr>\n",
       "                    <tr>\n",
       "                        <th> Data type </th>\n",
       "                        <td colspan=\"2\"> float32 numpy.ndarray </td>\n",
       "                    </tr>\n",
       "                </tbody>\n",
       "            </table>\n",
       "        </td>\n",
       "        <td>\n",
       "        <svg width=\"194\" height=\"177\" style=\"stroke:rgb(0,0,0);stroke-width:1\" >\n",
       "\n",
       "  <!-- Horizontal lines -->\n",
       "  <line x1=\"10\" y1=\"0\" x2=\"24\" y2=\"14\" style=\"stroke-width:2\" />\n",
       "  <line x1=\"10\" y1=\"18\" x2=\"24\" y2=\"33\" />\n",
       "  <line x1=\"10\" y1=\"36\" x2=\"24\" y2=\"51\" />\n",
       "  <line x1=\"10\" y1=\"54\" x2=\"24\" y2=\"69\" />\n",
       "  <line x1=\"10\" y1=\"72\" x2=\"24\" y2=\"87\" />\n",
       "  <line x1=\"10\" y1=\"90\" x2=\"24\" y2=\"105\" />\n",
       "  <line x1=\"10\" y1=\"108\" x2=\"24\" y2=\"123\" />\n",
       "  <line x1=\"10\" y1=\"112\" x2=\"24\" y2=\"127\" style=\"stroke-width:2\" />\n",
       "\n",
       "  <!-- Vertical lines -->\n",
       "  <line x1=\"10\" y1=\"0\" x2=\"10\" y2=\"112\" style=\"stroke-width:2\" />\n",
       "  <line x1=\"14\" y1=\"4\" x2=\"14\" y2=\"117\" />\n",
       "  <line x1=\"19\" y1=\"9\" x2=\"19\" y2=\"122\" />\n",
       "  <line x1=\"24\" y1=\"14\" x2=\"24\" y2=\"127\" style=\"stroke-width:2\" />\n",
       "\n",
       "  <!-- Colored Rectangle -->\n",
       "  <polygon points=\"10.0,0.0 24.9485979497544,14.948597949754403 24.9485979497544,127.38304220622538 10.0,112.43444425647098\" style=\"fill:#ECB172A0;stroke-width:0\"/>\n",
       "\n",
       "  <!-- Horizontal lines -->\n",
       "  <line x1=\"10\" y1=\"0\" x2=\"130\" y2=\"0\" style=\"stroke-width:2\" />\n",
       "  <line x1=\"14\" y1=\"4\" x2=\"134\" y2=\"4\" />\n",
       "  <line x1=\"19\" y1=\"9\" x2=\"139\" y2=\"9\" />\n",
       "  <line x1=\"24\" y1=\"14\" x2=\"144\" y2=\"14\" style=\"stroke-width:2\" />\n",
       "\n",
       "  <!-- Vertical lines -->\n",
       "  <line x1=\"10\" y1=\"0\" x2=\"24\" y2=\"14\" style=\"stroke-width:2\" />\n",
       "  <line x1=\"94\" y1=\"0\" x2=\"109\" y2=\"14\" />\n",
       "  <line x1=\"130\" y1=\"0\" x2=\"144\" y2=\"14\" style=\"stroke-width:2\" />\n",
       "\n",
       "  <!-- Colored Rectangle -->\n",
       "  <polygon points=\"10.0,0.0 130.0,0.0 144.9485979497544,14.948597949754403 24.9485979497544,14.948597949754403\" style=\"fill:#ECB172A0;stroke-width:0\"/>\n",
       "\n",
       "  <!-- Horizontal lines -->\n",
       "  <line x1=\"24\" y1=\"14\" x2=\"144\" y2=\"14\" style=\"stroke-width:2\" />\n",
       "  <line x1=\"24\" y1=\"33\" x2=\"144\" y2=\"33\" />\n",
       "  <line x1=\"24\" y1=\"51\" x2=\"144\" y2=\"51\" />\n",
       "  <line x1=\"24\" y1=\"69\" x2=\"144\" y2=\"69\" />\n",
       "  <line x1=\"24\" y1=\"87\" x2=\"144\" y2=\"87\" />\n",
       "  <line x1=\"24\" y1=\"105\" x2=\"144\" y2=\"105\" />\n",
       "  <line x1=\"24\" y1=\"123\" x2=\"144\" y2=\"123\" />\n",
       "  <line x1=\"24\" y1=\"127\" x2=\"144\" y2=\"127\" style=\"stroke-width:2\" />\n",
       "\n",
       "  <!-- Vertical lines -->\n",
       "  <line x1=\"24\" y1=\"14\" x2=\"24\" y2=\"127\" style=\"stroke-width:2\" />\n",
       "  <line x1=\"109\" y1=\"14\" x2=\"109\" y2=\"127\" />\n",
       "  <line x1=\"144\" y1=\"14\" x2=\"144\" y2=\"127\" style=\"stroke-width:2\" />\n",
       "\n",
       "  <!-- Colored Rectangle -->\n",
       "  <polygon points=\"24.9485979497544,14.948597949754403 144.9485979497544,14.948597949754403 144.9485979497544,127.38304220622538 24.9485979497544,127.38304220622538\" style=\"fill:#ECB172A0;stroke-width:0\"/>\n",
       "\n",
       "  <!-- Text -->\n",
       "  <text x=\"84.948598\" y=\"147.383042\" font-size=\"1.0rem\" font-weight=\"100\" text-anchor=\"middle\" >17733</text>\n",
       "  <text x=\"164.948598\" y=\"71.165820\" font-size=\"1.0rem\" font-weight=\"100\" text-anchor=\"middle\" transform=\"rotate(-90,164.948598,71.165820)\">16615</text>\n",
       "  <text x=\"7.474299\" y=\"139.908743\" font-size=\"1.0rem\" font-weight=\"100\" text-anchor=\"middle\" transform=\"rotate(45,7.474299,139.908743)\">3</text>\n",
       "</svg>\n",
       "        </td>\n",
       "    </tr>\n",
       "</table></div></div></li><li class='xr-section-item'><input id='section-b321411b-5986-4f2c-9dc0-93fd40945039' class='xr-section-summary-in' type='checkbox'  checked><label for='section-b321411b-5986-4f2c-9dc0-93fd40945039' class='xr-section-summary' >Coordinates: <span>(4)</span></label><div class='xr-section-inline-details'></div><div class='xr-section-details'><ul class='xr-var-list'><li class='xr-var-item'><div class='xr-var-name'><span class='xr-has-index'>x</span></div><div class='xr-var-dims'>(x)</div><div class='xr-var-dtype'>float64</div><div class='xr-var-preview xr-preview'>7.15e+05 7.15e+05 ... 8.036e+05</div><input id='attrs-117d2635-3e47-485c-9986-3db877333975' class='xr-var-attrs-in' type='checkbox' disabled><label for='attrs-117d2635-3e47-485c-9986-3db877333975' title='Show/Hide attributes'><svg class='icon xr-icon-file-text2'><use xlink:href='#icon-file-text2'></use></svg></label><input id='data-d0270bea-7d5b-4720-8709-1f8b8e913b00' class='xr-var-data-in' type='checkbox'><label for='data-d0270bea-7d5b-4720-8709-1f8b8e913b00' title='Show/Hide data repr'><svg class='icon xr-icon-database'><use xlink:href='#icon-database'></use></svg></label><div class='xr-var-attrs'><dl class='xr-attrs'></dl></div><div class='xr-var-data'><pre>array([714981.443084, 714986.443084, 714991.443084, ..., 803631.443084,\n",
       "       803636.443084, 803641.443084])</pre></div></li><li class='xr-var-item'><div class='xr-var-name'><span class='xr-has-index'>y</span></div><div class='xr-var-dims'>(y)</div><div class='xr-var-dtype'>float64</div><div class='xr-var-preview xr-preview'>1.468e+06 1.468e+06 ... 1.385e+06</div><input id='attrs-210c9df2-d13e-4d26-85f2-7aebf92a06b7' class='xr-var-attrs-in' type='checkbox' disabled><label for='attrs-210c9df2-d13e-4d26-85f2-7aebf92a06b7' title='Show/Hide attributes'><svg class='icon xr-icon-file-text2'><use xlink:href='#icon-file-text2'></use></svg></label><input id='data-2261a3bf-1048-4146-90e3-0c696eca8766' class='xr-var-data-in' type='checkbox'><label for='data-2261a3bf-1048-4146-90e3-0c696eca8766' title='Show/Hide data repr'><svg class='icon xr-icon-database'><use xlink:href='#icon-database'></use></svg></label><div class='xr-var-attrs'><dl class='xr-attrs'></dl></div><div class='xr-var-data'><pre>array([1468050., 1468045., 1468040., ..., 1384990., 1384985., 1384980.])</pre></div></li><li class='xr-var-item'><div class='xr-var-name'><span>spatial_ref</span></div><div class='xr-var-dims'>()</div><div class='xr-var-dtype'>int64</div><div class='xr-var-preview xr-preview'>0</div><input id='attrs-f3e46e03-042e-40be-89df-6316677c3267' class='xr-var-attrs-in' type='checkbox' ><label for='attrs-f3e46e03-042e-40be-89df-6316677c3267' title='Show/Hide attributes'><svg class='icon xr-icon-file-text2'><use xlink:href='#icon-file-text2'></use></svg></label><input id='data-f933f5a7-9020-4a69-a70b-b6cc28140215' class='xr-var-data-in' type='checkbox'><label for='data-f933f5a7-9020-4a69-a70b-b6cc28140215' title='Show/Hide data repr'><svg class='icon xr-icon-database'><use xlink:href='#icon-database'></use></svg></label><div class='xr-var-attrs'><dl class='xr-attrs'><dt><span>crs_wkt :</span></dt><dd>PROJCS[&quot;WGS 84 / UTM zone 43N&quot;,GEOGCS[&quot;WGS 84&quot;,DATUM[&quot;WGS_1984&quot;,SPHEROID[&quot;WGS 84&quot;,6378137,298.25722293287,AUTHORITY[&quot;EPSG&quot;,&quot;7030&quot;]],AUTHORITY[&quot;EPSG&quot;,&quot;6326&quot;]],PRIMEM[&quot;Greenwich&quot;,0],UNIT[&quot;degree&quot;,0.0174532925199433,AUTHORITY[&quot;EPSG&quot;,&quot;9122&quot;]],AUTHORITY[&quot;EPSG&quot;,&quot;4326&quot;]],PROJECTION[&quot;Transverse_Mercator&quot;],PARAMETER[&quot;latitude_of_origin&quot;,0],PARAMETER[&quot;central_meridian&quot;,75],PARAMETER[&quot;scale_factor&quot;,0.9996],PARAMETER[&quot;false_easting&quot;,500000],PARAMETER[&quot;false_northing&quot;,0],UNIT[&quot;metre&quot;,1,AUTHORITY[&quot;EPSG&quot;,&quot;9001&quot;]],AXIS[&quot;Easting&quot;,EAST],AXIS[&quot;Northing&quot;,NORTH],AUTHORITY[&quot;EPSG&quot;,&quot;32643&quot;]]</dd><dt><span>semi_major_axis :</span></dt><dd>6378137.0</dd><dt><span>semi_minor_axis :</span></dt><dd>6356752.3142</dd><dt><span>inverse_flattening :</span></dt><dd>298.25722293287</dd><dt><span>reference_ellipsoid_name :</span></dt><dd>WGS 84</dd><dt><span>longitude_of_prime_meridian :</span></dt><dd>0.0</dd><dt><span>prime_meridian_name :</span></dt><dd>Greenwich</dd><dt><span>geographic_crs_name :</span></dt><dd>WGS 84</dd><dt><span>horizontal_datum_name :</span></dt><dd>World Geodetic System 1984</dd><dt><span>projected_crs_name :</span></dt><dd>WGS 84 / UTM zone 43N</dd><dt><span>grid_mapping_name :</span></dt><dd>transverse_mercator</dd><dt><span>latitude_of_projection_origin :</span></dt><dd>0.0</dd><dt><span>longitude_of_central_meridian :</span></dt><dd>75.0</dd><dt><span>false_easting :</span></dt><dd>500000.0</dd><dt><span>false_northing :</span></dt><dd>0.0</dd><dt><span>scale_factor_at_central_meridian :</span></dt><dd>0.9996</dd><dt><span>spatial_ref :</span></dt><dd>PROJCS[&quot;WGS 84 / UTM zone 43N&quot;,GEOGCS[&quot;WGS 84&quot;,DATUM[&quot;WGS_1984&quot;,SPHEROID[&quot;WGS 84&quot;,6378137,298.25722293287,AUTHORITY[&quot;EPSG&quot;,&quot;7030&quot;]],AUTHORITY[&quot;EPSG&quot;,&quot;6326&quot;]],PRIMEM[&quot;Greenwich&quot;,0],UNIT[&quot;degree&quot;,0.0174532925199433,AUTHORITY[&quot;EPSG&quot;,&quot;9122&quot;]],AUTHORITY[&quot;EPSG&quot;,&quot;4326&quot;]],PROJECTION[&quot;Transverse_Mercator&quot;],PARAMETER[&quot;latitude_of_origin&quot;,0],PARAMETER[&quot;central_meridian&quot;,75],PARAMETER[&quot;scale_factor&quot;,0.9996],PARAMETER[&quot;false_easting&quot;,500000],PARAMETER[&quot;false_northing&quot;,0],UNIT[&quot;metre&quot;,1,AUTHORITY[&quot;EPSG&quot;,&quot;9001&quot;]],AXIS[&quot;Easting&quot;,EAST],AXIS[&quot;Northing&quot;,NORTH],AUTHORITY[&quot;EPSG&quot;,&quot;32643&quot;]]</dd><dt><span>GeoTransform :</span></dt><dd>714978.943083703 5.0 0.0 1468052.5 0.0 -5.0</dd></dl></div><div class='xr-var-data'><pre>array(0)</pre></div></li><li class='xr-var-item'><div class='xr-var-name'><span class='xr-has-index'>band</span></div><div class='xr-var-dims'>(band)</div><div class='xr-var-dtype'>&lt;U5</div><div class='xr-var-preview xr-preview'>&#x27;BAND2&#x27; &#x27;BAND3&#x27; &#x27;BAND4&#x27;</div><input id='attrs-df5324ae-59fa-41bd-b58e-f143d27592c3' class='xr-var-attrs-in' type='checkbox' disabled><label for='attrs-df5324ae-59fa-41bd-b58e-f143d27592c3' title='Show/Hide attributes'><svg class='icon xr-icon-file-text2'><use xlink:href='#icon-file-text2'></use></svg></label><input id='data-d0556dfd-fa49-4103-b65a-8c185129cb44' class='xr-var-data-in' type='checkbox'><label for='data-d0556dfd-fa49-4103-b65a-8c185129cb44' title='Show/Hide data repr'><svg class='icon xr-icon-database'><use xlink:href='#icon-database'></use></svg></label><div class='xr-var-attrs'><dl class='xr-attrs'></dl></div><div class='xr-var-data'><pre>array([&#x27;BAND2&#x27;, &#x27;BAND3&#x27;, &#x27;BAND4&#x27;], dtype=&#x27;&lt;U5&#x27;)</pre></div></li></ul></div></li><li class='xr-section-item'><input id='section-87c0f2ef-55b8-4048-bc98-5464c5e963aa' class='xr-section-summary-in' type='checkbox'  ><label for='section-87c0f2ef-55b8-4048-bc98-5464c5e963aa' class='xr-section-summary' >Indexes: <span>(3)</span></label><div class='xr-section-inline-details'></div><div class='xr-section-details'><ul class='xr-var-list'><li class='xr-var-item'><div class='xr-index-name'><div>x</div></div><div class='xr-index-preview'>PandasIndex</div><div></div><input id='index-d3e83e73-8305-4048-9435-0b7bd7332eea' class='xr-index-data-in' type='checkbox'/><label for='index-d3e83e73-8305-4048-9435-0b7bd7332eea' title='Show/Hide index repr'><svg class='icon xr-icon-database'><use xlink:href='#icon-database'></use></svg></label><div class='xr-index-data'><pre>PandasIndex(Index([714981.443083703, 714986.443083703, 714991.443083703, 714996.443083703,\n",
       "       715001.443083703, 715006.443083703, 715011.443083703, 715016.443083703,\n",
       "       715021.443083703, 715026.443083703,\n",
       "       ...\n",
       "       803596.443083703, 803601.443083703, 803606.443083703, 803611.443083703,\n",
       "       803616.443083703, 803621.443083703, 803626.443083703, 803631.443083703,\n",
       "       803636.443083703, 803641.443083703],\n",
       "      dtype=&#x27;float64&#x27;, name=&#x27;x&#x27;, length=17733))</pre></div></li><li class='xr-var-item'><div class='xr-index-name'><div>y</div></div><div class='xr-index-preview'>PandasIndex</div><div></div><input id='index-2da9474e-e0f3-4308-9c40-a081495e5ec4' class='xr-index-data-in' type='checkbox'/><label for='index-2da9474e-e0f3-4308-9c40-a081495e5ec4' title='Show/Hide index repr'><svg class='icon xr-icon-database'><use xlink:href='#icon-database'></use></svg></label><div class='xr-index-data'><pre>PandasIndex(Index([1468050.0, 1468045.0, 1468040.0, 1468035.0, 1468030.0, 1468025.0,\n",
       "       1468020.0, 1468015.0, 1468010.0, 1468005.0,\n",
       "       ...\n",
       "       1385025.0, 1385020.0, 1385015.0, 1385010.0, 1385005.0, 1385000.0,\n",
       "       1384995.0, 1384990.0, 1384985.0, 1384980.0],\n",
       "      dtype=&#x27;float64&#x27;, name=&#x27;y&#x27;, length=16615))</pre></div></li><li class='xr-var-item'><div class='xr-index-name'><div>band</div></div><div class='xr-index-preview'>PandasIndex</div><div></div><input id='index-e9a279ea-7749-4cbd-b560-b5e40e6ef880' class='xr-index-data-in' type='checkbox'/><label for='index-e9a279ea-7749-4cbd-b560-b5e40e6ef880' title='Show/Hide index repr'><svg class='icon xr-icon-database'><use xlink:href='#icon-database'></use></svg></label><div class='xr-index-data'><pre>PandasIndex(Index([&#x27;BAND2&#x27;, &#x27;BAND3&#x27;, &#x27;BAND4&#x27;], dtype=&#x27;object&#x27;, name=&#x27;band&#x27;))</pre></div></li></ul></div></li><li class='xr-section-item'><input id='section-64caac5c-7768-4bee-ac9a-03aa37ced27b' class='xr-section-summary-in' type='checkbox' disabled ><label for='section-64caac5c-7768-4bee-ac9a-03aa37ced27b' class='xr-section-summary'  title='Expand/collapse section'>Attributes: <span>(0)</span></label><div class='xr-section-inline-details'></div><div class='xr-section-details'><dl class='xr-attrs'></dl></div></li></ul></div></div>"
      ],
      "text/plain": [
       "<xarray.DataArray 'RAF20FEB2023032197010000064SSANSTUC00GTDC' (band: 3,\n",
       "                                                               y: 16615,\n",
       "                                                               x: 17733)>\n",
       "dask.array<rechunk-merge, shape=(3, 16615, 17733), dtype=float32, chunksize=(1, 2674, 12547), chunktype=numpy.ndarray>\n",
       "Coordinates:\n",
       "  * x            (x) float64 7.15e+05 7.15e+05 7.15e+05 ... 8.036e+05 8.036e+05\n",
       "  * y            (y) float64 1.468e+06 1.468e+06 ... 1.385e+06 1.385e+06\n",
       "    spatial_ref  int64 0\n",
       "  * band         (band) <U5 'BAND2' 'BAND3' 'BAND4'"
      ]
     },
     "execution_count": 21,
     "metadata": {},
     "output_type": "execute_result"
    }
   ],
   "source": [
    "reflectance_bands = [b2_ref, b3_ref, b4_ref]\n",
    "scene_ref = xr.concat(reflectance_bands, dim='band').assign_coords(\n",
    "    band=['BAND2', 'BAND3', 'BAND4']).chunk('auto')\n",
    "scene_ref.name = scene_id\n",
    "scene_ref"
   ]
  },
  {
   "cell_type": "markdown",
   "id": "S2CK78uOY4Ew",
   "metadata": {
    "id": "S2CK78uOY4Ew"
   },
   "source": [
    "### Write the Results to Disk"
   ]
  },
  {
   "cell_type": "markdown",
   "id": "e3839965-5658-4fff-ba85-252db0e1dbac",
   "metadata": {},
   "source": [
    "Our DataArray is structured to have 'band' as a dimension which makes it easy for data manipulation and processing. But for use in standard GIS software - it is better to create an XArray Dataset with each band as a variable."
   ]
  },
  {
   "cell_type": "code",
   "execution_count": null,
   "id": "b4b36580-e636-417a-8ab1-293bb3d86041",
   "metadata": {},
   "outputs": [],
   "source": [
    "output_ds = scene_ref.to_dataset('band')\n",
    "output_ds"
   ]
  },
  {
   "cell_type": "markdown",
   "id": "e35b0d05-f907-43b5-8f1e-39b5e22a8986",
   "metadata": {},
   "source": [
    "Define the options for the output file. We use the COG driver to create a [Cloud-Optimized GeoTIFF](https://www.cogeo.org/) file. "
   ]
  },
  {
   "cell_type": "code",
   "execution_count": null,
   "id": "tci-iXalB95D",
   "metadata": {
    "id": "tci-iXalB95D",
    "tags": []
   },
   "outputs": [],
   "source": [
    "output_file = f'{scene_id}.tif'\n",
    "\n",
    "output_options = {\n",
    "    'driver': 'COG',\n",
    "    'compress': 'deflate',\n",
    "    'num_threads': 'all_cpus',\n",
    "    'windowed': False # set True if you run out of RAM\n",
    "}"
   ]
  },
  {
   "cell_type": "markdown",
   "id": "99dc471b-3063-44f9-9fdf-1dfb16f23f24",
   "metadata": {},
   "source": [
    "Write the raster. Dask will now run the processing graph on the local cluster."
   ]
  },
  {
   "cell_type": "code",
   "execution_count": null,
   "id": "AcIPzY3sQ30w",
   "metadata": {
    "id": "AcIPzY3sQ30w",
    "tags": []
   },
   "outputs": [],
   "source": [
    "output_ds[['BAND2', 'BAND3', 'BAND4']].rio.to_raster(\n",
    "    output_file, **output_options)\n",
    "print(f'Output file created {output_file}')"
   ]
  }
 ],
 "metadata": {
  "colab": {
   "provenance": []
  },
  "kernelspec": {
   "display_name": "Python 3 (ipykernel)",
   "language": "python",
   "name": "python3"
  },
  "language_info": {
   "codemirror_mode": {
    "name": "ipython",
    "version": 3
   },
   "file_extension": ".py",
   "mimetype": "text/x-python",
   "name": "python",
   "nbconvert_exporter": "python",
   "pygments_lexer": "ipython3",
   "version": "3.12.1"
  }
 },
 "nbformat": 4,
 "nbformat_minor": 5
}
