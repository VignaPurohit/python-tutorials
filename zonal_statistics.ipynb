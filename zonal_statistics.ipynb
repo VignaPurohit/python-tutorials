{
  "nbformat": 4,
  "nbformat_minor": 0,
  "metadata": {
    "colab": {
      "provenance": [],
      "collapsed_sections": []
    },
    "kernelspec": {
      "name": "python3",
      "display_name": "Python 3"
    },
    "language_info": {
      "name": "python"
    }
  },
  "cells": [
    {
      "cell_type": "markdown",
      "source": [
        "# Zonal Statistics\n",
        "\n",
        "## Overview\n",
        "\n",
        "The Zonal Statistics function presents the results as a table and summarises the values of a raster within the zones of another dataset.\n",
        "\n",
        "The aim of this tutorial is to extract the total precipitaion for each county in the state of California, USA.  2021 dataset.\n",
        "\n",
        "Input Layers:\n",
        "\n",
        "* `chirps-v2.0.2021.tif`: Raster grid of precipitaion for 2021  by Climate Hazards Group InfraRed Precipitation with Station data (CHIRPS).\n",
        "*  `cb_2021_us_county_500k.zip`: A vector file with polygons representing counties  in the US.\n",
        "\n",
        "Output Layers:\n",
        "\n",
        "*   `precipitation.gpkg` : A GeoPackage containing a vector layer of county polygon with total precipitaion values sampled from the raster.\n",
        "\n",
        "\n",
        "Data Credit:\n",
        "\n",
        "*   [CHIRPS 2021 precipitation](https://data.chc.ucsb.edu/products/CHIRPS-2.0/). Climate Hazards Center (CHC). Retrieved 2022-09\n",
        "\n",
        "*   [US Census files: 2021](https://www2.census.gov/geo/tiger/GENZ2021/) United States Census Bureau. Retrieved 2022-09."
      ],
      "metadata": {
        "id": "vxduQznAp2Ax"
      }
    },
    {
      "cell_type": "markdown",
      "source": [
        "## Setup and Data Download\n",
        "\n",
        "The following blocks of code will install the required packages and download the datasets to your Colab environment."
      ],
      "metadata": {
        "id": "FE4NnpBGwvVm"
      }
    },
    {
      "cell_type": "code",
      "execution_count": null,
      "metadata": {
        "id": "XXQvU68ohMWA"
      },
      "outputs": [],
      "source": [
        "%%capture\n",
        "if 'google.colab' in str(get_ipython()):\n",
        "    !apt install libspatialindex-dev\n",
        "    !pip install fiona shapely pyproj rtree\n",
        "    !pip install geopandas\n",
        "    !pip install rioxarray\n",
        "    !pip install geocube\n",
        "    !pip install xarray_spatial"
      ]
    },
    {
      "cell_type": "code",
      "source": [
        "import os\n",
        "import pandas as pd\n",
        "import geopandas as gpd\n",
        "import rioxarray as rxr\n",
        "import matplotlib.pyplot as plt\n",
        "from geocube.api.core import make_geocube\n",
        "from xrspatial.zonal import stats\n"
      ],
      "metadata": {
        "id": "I8meeR2XidDA"
      },
      "execution_count": null,
      "outputs": []
    },
    {
      "cell_type": "code",
      "source": [
        "data_folder = 'data'\n",
        "output_folder = 'output'\n",
        "\n",
        "if not os.path.exists(data_folder):\n",
        "    os.mkdir(data_folder)\n",
        "if not os.path.exists(output_folder):\n",
        "    os.mkdir(output_folder)"
      ],
      "metadata": {
        "id": "gTO2zAqXidzr"
      },
      "execution_count": null,
      "outputs": []
    },
    {
      "cell_type": "code",
      "source": [
        "def download(url):\n",
        "    filename = os.path.join(data_folder, os.path.basename(url))\n",
        "    if not os.path.exists(filename):\n",
        "        from urllib.request import urlretrieve\n",
        "        local, _ = urlretrieve(url, filename)\n",
        "        print('Downloaded ' + local)\n",
        "\n",
        "raster_file = 'chirps-v2.0.2021.tif'\n",
        "zones_file = 'cb_2021_us_county_500k.zip'\n",
        "\n",
        "files = [\n",
        "    'https://data.chc.ucsb.edu/products/CHIRPS-2.0/global_annual/tifs/' + raster_file,\n",
        "    'https://www2.census.gov/geo/tiger/GENZ2021/shp/' + zones_file,\n",
        "]\n",
        "\n",
        "for file in files:\n",
        "  download(file)"
      ],
      "metadata": {
        "id": "d-cvhSW4igBo"
      },
      "execution_count": null,
      "outputs": []
    },
    {
      "cell_type": "markdown",
      "source": [
        "# Data Pre-Processing"
      ],
      "metadata": {
        "id": "u6kEXzadw4k7"
      }
    },
    {
      "cell_type": "markdown",
      "source": [
        "First we will read the  Zipped counties shapefile and filter out the counties that are in `California` state.\n",
        "\n",
        "The dataframe has a column  as `STATE_NAME` having naesm of states that can be used to filter the counties for *California*."
      ],
      "metadata": {
        "id": "nKGBKNspw7Pp"
      }
    },
    {
      "cell_type": "code",
      "source": [
        "zones_file_path = os.path.join(data_folder, zones_file)\n",
        "\n",
        "zones_df = gpd.read_file(zones_file_path)\n",
        "california_df  = zones_df[zones_df['STATE_NAME'] == 'California']\n",
        "california_df"
      ],
      "metadata": {
        "id": "leakJcQWjrJ4"
      },
      "execution_count": null,
      "outputs": []
    },
    {
      "cell_type": "markdown",
      "source": [
        "The 'GEOID' column contains a unique id for all the counties present in the state, but it is of `object` type. We need to convert it to `int` type to be used in xarray. "
      ],
      "metadata": {
        "id": "cMGEVJJJxz0X"
      }
    },
    {
      "cell_type": "markdown",
      "source": [
        "Since the CHIRPS dataset is for whole world, so we clip it to the bounds of *California* state. Storing the values of bounding box in the required variables.   "
      ],
      "metadata": {
        "id": "aUPCWUQByt0C"
      }
    },
    {
      "cell_type": "markdown",
      "source": [
        " Now, read the raster file using `rioxarray` and clip it to the geometry of *California* state."
      ],
      "metadata": {
        "id": "sOTZ42GTzOir"
      }
    },
    {
      "cell_type": "code",
      "source": [
        "raster_filepath = os.path.join(data_folder, raster_file)\n",
        "raster = rxr.open_rasterio(raster_filepath, mask_and_scale=True).rio.clip(california_df.geometry)\n",
        "raster"
      ],
      "metadata": {
        "id": "IvGqNZWPiors"
      },
      "execution_count": null,
      "outputs": []
    },
    {
      "cell_type": "markdown",
      "source": [
        "You will notice that the raster has many pixels with value -9999. These are NoData values but they are not encoded as such. We will mask these values to get only the valid pixels."
      ],
      "metadata": {
        "id": "Tv2oEaRdOO5s"
      }
    },
    {
      "cell_type": "markdown",
      "source": [
        "The raster has only 1 band containing yearly precipitaion values, so we select it."
      ],
      "metadata": {
        "id": "kwVW6WcAOZoA"
      }
    },
    {
      "cell_type": "code",
      "source": [
        "precipitation = raster.sel(band=1)\n",
        "precipitation"
      ],
      "metadata": {
        "id": "uLraDJRCisLg"
      },
      "execution_count": null,
      "outputs": []
    },
    {
      "cell_type": "markdown",
      "source": [
        "## Sampling Raster Values\n",
        "\n",
        "Now we will extract the value of the raster pixels for every counties in California. We will be uisng `geocube` module for that. It takes geodataframe, it's unique value as integer and a xarray dataset as input and converts the geodataframe into  a `xarray dataset` having dimension and coordinates same as of given input xarray dataset\n"
      ],
      "metadata": {
        "id": "uND6MOddOoyJ"
      }
    },
    {
      "cell_type": "code",
      "source": [
        "california_df['GEOID'] = california_df.GEOID.astype(int)\n",
        "california_raster = make_geocube(\n",
        "    vector_data=california_df,\n",
        "    measurements=['GEOID'],\n",
        "    like=precipitation, \n",
        ")\n",
        "california_raster"
      ],
      "metadata": {
        "id": "gr2Lc5YtisIK"
      },
      "execution_count": null,
      "outputs": []
    },
    {
      "cell_type": "code",
      "source": [
        "stats_df = stats(zones=california_raster.GEOID, values=precipitation)\n",
        "stats_df"
      ],
      "metadata": {
        "id": "Qwnk6qSoj_mu"
      },
      "execution_count": null,
      "outputs": []
    },
    {
      "cell_type": "code",
      "source": [
        "stats_df['GEOID'] = stats_df['zone'].astype(int)\n",
        "joined = california_df.merge(stats_df[['GEOID', 'mean']], on='GEOID')\n",
        "joined"
      ],
      "metadata": {
        "id": "h27zV_1OlTqr"
      },
      "execution_count": null,
      "outputs": []
    },
    {
      "cell_type": "markdown",
      "source": [
        "Plotting the average annual precipitation for the California state."
      ],
      "metadata": {
        "id": "Djl6h6BUW9ov"
      }
    },
    {
      "cell_type": "code",
      "source": [
        "fig, ax = plt.subplots(1, 1)\n",
        "fig.set_size_inches(10,10)\n",
        "joined.plot(ax=ax, column='mean', cmap='RdYlGn_r',\n",
        "          legend = True)\n",
        "ax.set_axis_off()\n",
        "plt.show()"
      ],
      "metadata": {
        "id": "D8vOyiwN3edQ"
      },
      "execution_count": null,
      "outputs": []
    },
    {
      "cell_type": "markdown",
      "source": [
        "Finally, we save the sampled result to disk as `.gpkg`."
      ],
      "metadata": {
        "id": "bHCddLI2Sp9o"
      }
    },
    {
      "cell_type": "code",
      "source": [
        "output_file = 'precipitation_by_county.gpkg'\n",
        "output_path = os.path.join(output_folder, output_file)\n",
        "\n",
        "joined.to_file(driver = 'GPKG', filename =output_path)\n",
        "print('Successfully written output file at {}'.format(output_path))"
      ],
      "metadata": {
        "id": "VdAyegoO61Er"
      },
      "execution_count": null,
      "outputs": []
    }
  ]
}
